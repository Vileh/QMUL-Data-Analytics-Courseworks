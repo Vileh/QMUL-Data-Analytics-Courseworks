{
 "cells": [
  {
   "cell_type": "markdown",
   "metadata": {},
   "source": [
    "# CNN From Scratch"
   ]
  },
  {
   "cell_type": "markdown",
   "metadata": {},
   "source": [
    "## Imports"
   ]
  },
  {
   "cell_type": "code",
   "execution_count": 1,
   "metadata": {},
   "outputs": [],
   "source": [
    "import numpy as np\n",
    "from scipy import signal\n",
    "import cv2\n",
    "import matplotlib.pyplot as plt\n",
    "import time"
   ]
  },
  {
   "cell_type": "markdown",
   "metadata": {},
   "source": [
    "## Model "
   ]
  },
  {
   "cell_type": "markdown",
   "metadata": {},
   "source": [
    "#### Activations"
   ]
  },
  {
   "cell_type": "code",
   "execution_count": 52,
   "metadata": {},
   "outputs": [],
   "source": [
    "class ReLU():\n",
    "    def forward(self, input):\n",
    "        self.input = input\n",
    "        return np.maximum(0, input)\n",
    "    \n",
    "    def backward(self, output_grad, learning_rate):\n",
    "        return np.multiply(output_grad, np.where(self.input <= 0, 0, 1))\n",
    "\n",
    "class ELU():\n",
    "    def __init__(self, alpha=1.0):\n",
    "        self.alpha = alpha\n",
    "    \n",
    "    def forward(self, input):\n",
    "        self.input = input\n",
    "        return np.where(input > 0, input, self.alpha * (np.exp(input) - 1))\n",
    "    \n",
    "    def backward(self, output_grad, learning_rate):\n",
    "        return np.multiply(output_grad, np.where(self.input > 0, 1, self.alpha * np.exp(self.input)))\n",
    "    \n",
    "class Softmax():\n",
    "    def forward(self, input):\n",
    "        # Subtract the maximum value from each row to avoid numerical instability\n",
    "        input_max = np.max(input, axis=1, keepdims=True)\n",
    "        input -= input_max\n",
    "\n",
    "        tmp = np.exp(input)\n",
    "        self.output = tmp / np.sum(tmp, axis=1, keepdims=True)\n",
    "        return self.output\n",
    "    \n",
    "    def backward(self, output_gradient, learning_rate):\n",
    "        eye = np.repeat(np.eye(output_gradient.shape[1]), output_gradient.shape[0], axis=0)\n",
    "        input_grad = (self.output[:, :, None] * (eye - self.output[:, None, :]))\n",
    "        \n",
    "        return (output_gradient[:, None, :] @ input_grad).reshape(output_gradient.shape)"
   ]
  },
  {
   "cell_type": "markdown",
   "metadata": {},
   "source": [
    "### Loss"
   ]
  },
  {
   "cell_type": "code",
   "execution_count": 38,
   "metadata": {},
   "outputs": [],
   "source": [
    "def categorical_cross_entropy(y_true, y_pred):    \n",
    "    # Clip predicted values to avoid log(0) errors\n",
    "    epsilon = 1e-15\n",
    "    y_pred = np.clip(y_pred, epsilon, 1 - epsilon)\n",
    "    \n",
    "    # Compute cross-entropy loss\n",
    "    loss = -np.sum(y_true * np.log(y_pred))\n",
    "    \n",
    "    # Average loss over samples\n",
    "    loss /= y_true.shape[1]\n",
    "    \n",
    "    return loss\n",
    "\n",
    "def categorical_cross_entropy_prime(y_true, y_pred):\n",
    "    # Clip predicted values to avoid log(0) errors\n",
    "    epsilon = 1e-15\n",
    "    y_pred = np.clip(y_pred, epsilon, 1 - epsilon)\n",
    "    \n",
    "    # Compute gradient of cross-entropy loss\n",
    "    gradient = -y_true / y_pred\n",
    "    \n",
    "    return gradient"
   ]
  },
  {
   "cell_type": "markdown",
   "metadata": {},
   "source": [
    "### Convolutional Layer"
   ]
  },
  {
   "cell_type": "code",
   "execution_count": 39,
   "metadata": {},
   "outputs": [],
   "source": [
    "class ConvolutionalLayer():\n",
    "    def __init__(self, input_shape:tuple, output_depth:int, kernel_size, padding=0, stride=1, bias:bool=True):\n",
    "        self.input_depth, input_height, input_width = input_shape\n",
    "        self.output_depth = output_depth\n",
    "        self.kernel_size = kernel_size\n",
    "        self.padding = padding\n",
    "        self.stride = stride\n",
    "        self.bias = bias\n",
    "\n",
    "        if isinstance(kernel_size, int):\n",
    "            self.kernel_size = (kernel_size, kernel_size)\n",
    "        if isinstance(padding, int):\n",
    "            self.padding = (padding, padding)\n",
    "        if isinstance(stride, int):\n",
    "            self.stride = (stride, stride)\n",
    "\n",
    "        self.kernels_shape = (output_depth, self.input_depth, self.kernel_size[0], self.kernel_size[1])\n",
    "        self.output_shape = (output_depth, int((input_height - self.kernel_size[0] + 2*self.padding[0] + self.stride[0]) / self.stride[0]), int((input_width - self.kernel_size[1] + 2*self.padding[1] + self.stride[0]) / self.stride[0]))\n",
    "        self.dilated_gradient_shape = (output_depth, (input_height - self.kernel_size[0] + 2*self.padding[0] + 1), (input_width - self.kernel_size[1] + 2*self.padding[1] + 1))\n",
    "\n",
    "        # Initialise weights and biases\n",
    "        self.weights = np.random.randn(output_depth, self.input_depth, self.kernel_size[0], self.kernel_size[1]) * np.sqrt(2 / (self.input_depth * self.kernel_size[0] * self.kernel_size[1]))\n",
    "        self.biases = np.zeros(self.output_depth)\n",
    "\n",
    "    def forward(self, input):     \n",
    "        # Padding\n",
    "        input = np.pad(input, ((0, 0), (self.padding[0], self.padding[0]), (self.padding[1], self.padding[1])))\n",
    "        self.input = input\n",
    "\n",
    "        # Calculate output\n",
    "        self.output = np.zeros(self.output_shape) + self.biases[:, np.newaxis, np.newaxis]\n",
    "        for i in range(self.output_depth):\n",
    "            for j in range(self.input_depth):\n",
    "                # Cross correlation\n",
    "                self.output[i] += signal.correlate2d(input[j], self.weights[i, j], \"valid\")[::self.stride[0], ::self.stride[1]]\n",
    "        return self.output\n",
    "    \n",
    "    def backward(self, output_gradient, learning_rate):\n",
    "        kernels_gradient = np.zeros(self.kernels_shape)\n",
    "        input_gradient = np.zeros(self.input.shape)\n",
    "\n",
    "        # Initialise dilated output gradient matrix\n",
    "        dilated_output_gradient = np.zeros(self.dilated_gradient_shape)\n",
    "\n",
    "        for i in range(self.output_depth):\n",
    "            \n",
    "            # Make the dilated output gradient\n",
    "            for index_x, row in enumerate(output_gradient[i]):\n",
    "                for index_y, gradient in enumerate(row):\n",
    "                    dilated_output_gradient[i, index_x * (self.stride[0]), index_y * (self.stride[1])] = gradient\n",
    "\n",
    "            # Calculate the gradients\n",
    "            for j in range(self.input_depth):\n",
    "                kernels_gradient[i, j] = signal.correlate2d(self.input[j], dilated_output_gradient[i], \"valid\")[::self.stride[0], ::self.stride[1]]\n",
    "                input_gradient[j] += signal.convolve2d(dilated_output_gradient[i], self.weights[i, j], \"full\")\n",
    "\n",
    "        # Update the weights\n",
    "        self.weights -= learning_rate * kernels_gradient\n",
    "\n",
    "        # Update the biases if needed\n",
    "        if self.bias:\n",
    "            self.biases -= learning_rate * np.sum(output_gradient, axis=(1, 2))\n",
    "\n",
    "        # Crop the padding gradients\n",
    "        if self.padding[0] != 0:\n",
    "            input_gradient = input_gradient[:, self.padding[0]:-self.padding[0], :]\n",
    "        if self.padding[1] != 0:\n",
    "            input_gradient = input_gradient[:, :, self.padding[1]:-self.padding[1]]\n",
    "\n",
    "        return input_gradient"
   ]
  },
  {
   "cell_type": "markdown",
   "metadata": {},
   "source": [
    "### Pooling Layer"
   ]
  },
  {
   "cell_type": "code",
   "execution_count": 193,
   "metadata": {},
   "outputs": [],
   "source": [
    "class MaxPooling():\n",
    "    def __init__(self, input_shape, kernel_size, padding, stride):\n",
    "        self.input_depth, input_height, input_width = input_shape\n",
    "        self.output_depth = self.input_depth\n",
    "        self.kernel_size = kernel_size\n",
    "        self.padding = padding\n",
    "        self.stride = stride\n",
    "\n",
    "        if isinstance(kernel_size, int):\n",
    "            self.kernel_size = (kernel_size, kernel_size)\n",
    "        if isinstance(padding, int):\n",
    "            self.padding = (padding, padding)\n",
    "        if isinstance(stride, int):\n",
    "            self.stride = (stride, stride)\n",
    "\n",
    "        self.output_shape = (self.output_depth, int((input_height - self.kernel_size[0] + 2*self.padding[0] + self.stride[0]) / self.stride[0]), int((input_width - self.kernel_size[1] + 2*self.padding[1] + self.stride[0]) / self.stride[0]))\n",
    "\n",
    "    def forward(self, input):      \n",
    "        # Padding\n",
    "        input = np.pad(input, ((0, 0), (self.padding[0], self.padding[0]), (self.padding[1], self.padding[1])), constant_values=-np.inf)\n",
    "        self.input = input\n",
    "\n",
    "        # Calculate output\n",
    "        self.output = np.zeros(self.output_shape)\n",
    "        for i in range(self.output_depth):\n",
    "            for x in range(self.output_shape[1]):\n",
    "                for y in range(self.output_shape[2]):\n",
    "                    self.output[i, x, y] = np.max(input[i, x*self.stride[0]:x*self.stride[0]+self.kernel_size[0], y*self.stride[1]:y*self.stride[1]+self.kernel_size[1]])\n",
    "\n",
    "        return self.output\n",
    "    \n",
    "    def backward(self, output_gradient, learning_rate):\n",
    "        input_gradient = np.zeros(self.input.shape)\n",
    "        \n",
    "        for i in range(self.output_depth):\n",
    "            for x in range(self.output_shape[1]):\n",
    "                for y in range(self.output_shape[2]):\n",
    "                    window = self.input[i, x*self.stride[0]:x*self.stride[0]+self.kernel_size[0], y*self.stride[1]:y*self.stride[1]+self.kernel_size[1]]\n",
    "                    max_value = np.max(window)\n",
    "                    input_gradient[i, x*self.stride[0]:x*self.stride[0]+self.kernel_size[0], y*self.stride[1]:y*self.stride[1]+self.kernel_size[1]] += (window == max_value) * output_gradient[i, x, y]\n",
    "        \n",
    "        # Crop the padding gradients\n",
    "        if self.padding[0] != 0:\n",
    "            input_gradient = input_gradient[:, self.padding[0]:-self.padding[0], :]\n",
    "        if self.padding[1] != 0:\n",
    "            input_gradient = input_gradient[:, :, self.padding[1]:-self.padding[1]]\n",
    "\n",
    "        return input_gradient"
   ]
  },
  {
   "cell_type": "markdown",
   "metadata": {},
   "source": [
    "### Flatten (Reshape) Layer"
   ]
  },
  {
   "cell_type": "code",
   "execution_count": 41,
   "metadata": {},
   "outputs": [],
   "source": [
    "class Reshape():\n",
    "    def __init__(self, input_shape, output_shape):\n",
    "        self.input_shape = input_shape\n",
    "        self.output_shape = output_shape\n",
    "\n",
    "    def forward(self, input):\n",
    "        return np.reshape(input, self.output_shape)\n",
    "\n",
    "    def backward(self, output_gradient, learning_rate):\n",
    "        return np.reshape(output_gradient, self.input_shape)"
   ]
  },
  {
   "cell_type": "markdown",
   "metadata": {},
   "source": [
    "### Fully Connected Layer"
   ]
  },
  {
   "cell_type": "code",
   "execution_count": 42,
   "metadata": {},
   "outputs": [],
   "source": [
    "class Dense():\n",
    "    def __init__(self, input_size, output_size, bias:bool=True):\n",
    "        self.weights = np.random.randn(input_size, output_size) * np.sqrt(2 / np.sum(input_size))\n",
    "        self.bias = np.zeros(output_size) if bias else None\n",
    "\n",
    "    def forward(self, input):\n",
    "        self.input = input\n",
    "        output = np.dot(input, self.weights)\n",
    "        if self.bias is not None:\n",
    "            output += self.bias\n",
    "        return output\n",
    "\n",
    "    def backward(self, output_gradient, learning_rate):\n",
    "        weights_gradient = np.dot(output_gradient.T, self.input).T\n",
    "        input_gradient = np.dot(self.weights, output_gradient.T).T\n",
    "\n",
    "        self.weights -= learning_rate * weights_gradient\n",
    "\n",
    "        if self.bias is not None:\n",
    "            self.bias -= learning_rate * output_gradient.sum(axis=1)\n",
    "\n",
    "        return input_gradient"
   ]
  },
  {
   "cell_type": "markdown",
   "metadata": {},
   "source": [
    "## Instance Norm"
   ]
  },
  {
   "cell_type": "code",
   "execution_count": 72,
   "metadata": {},
   "outputs": [],
   "source": [
    "class InstanceNorm:\n",
    "    def __init__(self, num_features, eps=1e-5, affine=True):\n",
    "        self.num_features = num_features\n",
    "        self.eps = eps\n",
    "        self.affine = affine\n",
    "        \n",
    "        if self.affine:\n",
    "            self.gamma = np.ones((num_features, 1))\n",
    "            self.beta = np.zeros((num_features, 1))\n",
    "        else:\n",
    "            self.gamma = None\n",
    "            self.beta = None\n",
    "        \n",
    "        self.mean = None\n",
    "        self.std = None\n",
    "        self.x_flat = None\n",
    "\n",
    "    def forward(self, x):\n",
    "        self.input = x\n",
    "\n",
    "        # Reshape the input tensor to compute mean and standard deviation along the feature dimension\n",
    "        self.x_flat = x.reshape(self.num_features, -1)\n",
    "        \n",
    "        # Compute the mean and standard deviation along the feature dimension\n",
    "        self.mean = np.mean(self.x_flat, axis=-1, keepdims=True)\n",
    "        self.std = np.std(self.x_flat, axis=-1, keepdims=True)\n",
    "        \n",
    "        # Normalize the input tensor\n",
    "        self.y_flat = (self.x_flat - self.mean) / (self.std + self.eps)\n",
    "        \n",
    "        # Apply the learnable scale and shift parameters if affine is True\n",
    "        if self.affine:\n",
    "            self.y_flat = self.gamma * self.y_flat + self.beta\n",
    "        \n",
    "        # Reshape the normalized output tensor to the original shape\n",
    "        self.y = self.y_flat.reshape(x.shape)\n",
    "        \n",
    "        return self.y\n",
    "\n",
    "    def backward(self, output_gradient, learning_rate):\n",
    "        # Reshape the output gradient tensor\n",
    "        dy_flat = output_gradient.reshape(self.num_features, -1)\n",
    "\n",
    "        n = dy_flat.shape[-1]\n",
    "        self.mean = self.mean[:, np.newaxis]\n",
    "        self.std = self.std[:, np.newaxis]\n",
    "        \n",
    "        # Compute the gradients of the scale and shift parameters\n",
    "        if self.affine:\n",
    "            dgamma = np.array([np.dot(self.y_flat[i], dy_flat[i]) for i in range(len(self.y_flat))])\n",
    "            dbeta = np.sum(dy_flat, axis=-1)\n",
    "        else:\n",
    "            dgamma = None\n",
    "            dbeta = None\n",
    "\n",
    "        # REDACT\n",
    "        delta = np.eye(n)[None, :, :]\n",
    "        delta = np.broadcast_to(delta, (self.num_features, n, n)) \n",
    "\n",
    "        term1 = (delta - 1 / n) / (self.std + self.eps)\n",
    "        term2 = ((self.input - self.mean) / (n * self.std)).reshape(self.num_features, -1)[:, :, np.newaxis]\n",
    "        term3 = ((self.input - self.mean) / ((self.std + self.eps)**2)).reshape(self.num_features, -1)[:, np.newaxis, :]\n",
    "\n",
    "        dy_dx = term1 - term2 * term3\n",
    "\n",
    "        dx_flat = np.array([np.dot(dy_dx[i], dy_flat[i]) for i in range(len(dy_dx))])\n",
    "\n",
    "        if self.affine:\n",
    "            dx_flat *= self.gamma\n",
    "        \n",
    "        # Reshape the input gradient tensor to the original shape\n",
    "        dx = dx_flat.reshape(output_gradient.shape)\n",
    "\n",
    "        # Update the parameters\n",
    "        if self.affine:\n",
    "            self.gamma -= learning_rate * dgamma[:, np.newaxis]\n",
    "            self.beta -= learning_rate * dbeta[:, np.newaxis]\n",
    "        \n",
    "        return dx"
   ]
  },
  {
   "cell_type": "code",
   "execution_count": 68,
   "metadata": {},
   "outputs": [
    {
     "name": "stdout",
     "output_type": "stream",
     "text": [
      "(3, 16) (3, 16)\n",
      "(3,)\n",
      "(3,)\n",
      "[[[-0.19121248 -0.63642721 -0.02808008 -0.24730336]\n",
      "  [ 0.12550264  0.39071707  1.00188178  0.37752269]\n",
      "  [-1.29329319  0.61715677  0.39802709 -0.62608009]\n",
      "  [ 1.60753829 -0.14922    -0.37510045 -0.97162947]]\n",
      "\n",
      " [[ 0.32426159  0.35995621  0.52678364  0.15117549]\n",
      "  [-1.77912334  0.39217036 -0.30745169  0.29807433]\n",
      "  [ 0.79376865 -0.98153674 -0.85702014 -0.36037813]\n",
      "  [-0.66821391 -0.70711539  1.32441688  1.49023219]]\n",
      "\n",
      " [[-1.90449552  0.22258805  0.30417717 -0.63640249]\n",
      "  [ 0.76751165 -0.55452672  0.01851972  0.47835225]\n",
      "  [-0.91067485  1.8473152   0.98325138 -0.57933185]\n",
      "  [-0.88638754  1.35457139 -1.68512485  1.18065704]]]\n"
     ]
    }
   ],
   "source": [
    "inl = InstanceNorm(3)\n",
    "x = np.random.randn(3, 4, 4)\n",
    "\n",
    "inl.forward(x)\n",
    "\n",
    "print(inl.backward(np.random.randn(3, 4, 4), 0.01))"
   ]
  },
  {
   "cell_type": "markdown",
   "metadata": {},
   "source": [
    "## Train and predict functions"
   ]
  },
  {
   "cell_type": "code",
   "execution_count": 44,
   "metadata": {},
   "outputs": [],
   "source": [
    "# Make better\n",
    "\n",
    "def predict(network, input):\n",
    "    output = input\n",
    "    for layer in network:\n",
    "        output = layer.forward(output)\n",
    "    return output\n",
    "\n",
    "def train(network, loss, loss_prime, x_train, y_train, x_test, y_test, epochs = 1000, learning_rate = 0.01, lr_decay = 0.99, batch_size = 32, verbose = True, test_epochs=10):\n",
    "    errors = []\n",
    "    test_scores = []\n",
    "    for e in range(epochs):\n",
    "        error = 0\n",
    "        indices = np.random.permutation(len(x_train))[:batch_size]            \n",
    "        for x, y in zip(x_train[indices], y_train[indices]):\n",
    "            # forward\n",
    "            output = predict(network, x)\n",
    "\n",
    "            # error\n",
    "            error += loss(y, output)\n",
    "\n",
    "            # backward\n",
    "            grad = loss_prime(y, output)\n",
    "            for layer in reversed(network):\n",
    "                grad = layer.backward(grad, learning_rate)\n",
    "\n",
    "        error /= batch_size\n",
    "        if verbose:\n",
    "            print(f\"{e + 1}/{epochs}, error={error}, lr = {learning_rate}\")\n",
    "\n",
    "        if e % test_epochs == 0:\n",
    "            correct = 0\n",
    "            indices = np.random.permutation(len(x_test))[:100]      \n",
    "            for x, y in zip(x_test[indices], y_test[indices]):\n",
    "                output = predict(network, x)\n",
    "                correct += np.argmax(output) == np.argmax(y)\n",
    "\n",
    "            test_scores.append(correct / len(x_test))\n",
    "\n",
    "        learning_rate *= lr_decay\n",
    "\n",
    "        errors.append(error)\n",
    "    \n",
    "    return errors, test_scores"
   ]
  },
  {
   "cell_type": "markdown",
   "metadata": {},
   "source": [
    "## Data\n",
    "\n",
    "#### Load MNIST digit dataset"
   ]
  },
  {
   "cell_type": "code",
   "execution_count": 45,
   "metadata": {},
   "outputs": [],
   "source": [
    "from keras.datasets import mnist\n",
    "from keras.utils import to_categorical\n",
    "\n",
    "# Load MNIST data\n",
    "(train_images, train_labels), (test_images, test_labels) = mnist.load_data()\n",
    "\n",
    "# Normalize pixel values to the range [0, 1]\n",
    "train_images = train_images.astype('float32') / 255\n",
    "test_images = test_images.astype('float32') / 255\n",
    "\n",
    "# Reshape the images data\n",
    "train_images = np.expand_dims(train_images, axis=1)\n",
    "test_images = np.expand_dims(test_images, axis=1)\n",
    "\n",
    "# One-hot encode the labels\n",
    "train_labels = to_categorical(train_labels)\n",
    "test_labels = to_categorical(test_labels)\n",
    "\n",
    "# Reshape the labels\n",
    "train_labels = train_labels.reshape(-1, 1, 10)\n",
    "test_labels = test_labels.reshape(-1, 1, 10)"
   ]
  },
  {
   "cell_type": "markdown",
   "metadata": {},
   "source": [
    "#### Generating new images"
   ]
  },
  {
   "cell_type": "code",
   "execution_count": 46,
   "metadata": {},
   "outputs": [],
   "source": [
    "def generate_new_images(images, labels, num_new_images):\n",
    "    new_images = []\n",
    "    new_labels = []\n",
    "    \n",
    "    for _ in range(num_new_images):\n",
    "        # Select a random image from the input images\n",
    "        index = np.random.randint(0, len(images) - 1)\n",
    "        image = images[index][0]\n",
    "        label = labels[index]\n",
    "        \n",
    "        # Random rotation angle\n",
    "        angle = np.random.uniform(-10, 10)\n",
    "        \n",
    "        # Random zoom factor\n",
    "        zoom_factor = np.random.uniform(0.9, 1.1)\n",
    "        \n",
    "        # Rotate and zoom the image\n",
    "        rotated = rotate_image(image, angle)\n",
    "        zoomed = zoom_image(rotated, zoom_factor)\n",
    "        \n",
    "        new_images.append(zoomed.reshape(1, 28, 28))\n",
    "        new_labels.append(label)\n",
    "        \n",
    "    return np.array(new_images), np.array(new_labels)\n",
    "\n",
    "def rotate_image(image, angle):\n",
    "    height, width = image.shape\n",
    "    center = (width // 2, height // 2)\n",
    "    rotation_matrix = cv2.getRotationMatrix2D(center, angle, 1.0)\n",
    "    rotated = cv2.warpAffine(image, rotation_matrix, (width, height), flags=cv2.INTER_NEAREST)\n",
    "    return rotated\n",
    "\n",
    "def zoom_image(image, zoom_factor):\n",
    "    height, width = image.shape\n",
    "    new_height, new_width = int(height * zoom_factor), int(width * zoom_factor)\n",
    "    zoomed = cv2.resize(image, (new_width, new_height), interpolation=cv2.INTER_NEAREST)\n",
    "    zoomed = cv2.resize(zoomed, (width, height), interpolation=cv2.INTER_NEAREST)\n",
    "    return zoomed"
   ]
  },
  {
   "cell_type": "code",
   "execution_count": 47,
   "metadata": {},
   "outputs": [
    {
     "data": {
      "text/plain": [
       "(360000, 1, 28, 28)"
      ]
     },
     "execution_count": 47,
     "metadata": {},
     "output_type": "execute_result"
    }
   ],
   "source": [
    "generated_images, new_labels = generate_new_images(train_images, train_labels, 300000)\n",
    "train_images = np.concatenate((train_images, generated_images))\n",
    "train_labels = np.concatenate((train_labels, new_labels))\n",
    "\n",
    "train_images.shape"
   ]
  },
  {
   "cell_type": "markdown",
   "metadata": {},
   "source": [
    "## Defining the models"
   ]
  },
  {
   "cell_type": "code",
   "execution_count": 114,
   "metadata": {},
   "outputs": [],
   "source": [
    "network_1 = [\n",
    "    ConvolutionalLayer((1, 28, 28), 2, 3, padding=1),\n",
    "    ELU(),\n",
    "    MaxPooling((2, 28, 28), 2, 0, 2),\n",
    "    Reshape((2, 14, 14) , (1, 2 * 14 * 14)),\n",
    "    Dense(2 * 14 * 14, 10),\n",
    "    Softmax()\n",
    "]\n",
    "\n",
    "network_2 = [\n",
    "    ConvolutionalLayer((1, 28, 28), 2, 3, padding=1),\n",
    "    ELU(),\n",
    "    MaxPooling((2, 28, 28), 2, 0, 2),\n",
    "    ConvolutionalLayer((2, 14, 14), 4, 3, padding=1),\n",
    "    ELU(),\n",
    "    MaxPooling((4, 14, 14), 2, 0, 2),\n",
    "    Reshape((4, 7, 7) , (1, 4 * 7 * 7)),\n",
    "    Dense(4 * 7 * 7, 64),\n",
    "    ELU(),\n",
    "    Dense(64, 10),\n",
    "    Softmax()\n",
    "]\n",
    "\n",
    "network_3 = [\n",
    "    ConvolutionalLayer((1, 28, 28), 8, 3, padding=1),\n",
    "    InstanceNorm(8),\n",
    "    ELU(),\n",
    "    MaxPooling((8, 28, 28), 2, 0, 2),\n",
    "    ConvolutionalLayer((8, 14, 14), 16, 3, padding=1),\n",
    "    InstanceNorm(16),\n",
    "    ELU(),\n",
    "    MaxPooling((16, 14, 14), 2, 0, 2),\n",
    "    Reshape((16, 7, 7) , (1, 16 * 7 * 7)),\n",
    "    Dense(16 * 7 * 7, 512),\n",
    "    ELU(),\n",
    "    Dense(512, 128),\n",
    "    ELU(),\n",
    "    Dense(128, 10),\n",
    "    Softmax()\n",
    "]\n",
    "\n",
    "network_4 = [\n",
    "    ConvolutionalLayer((1, 28, 28), 8, 3, padding=1),\n",
    "    InstanceNorm(8),\n",
    "    ELU(),\n",
    "    ConvolutionalLayer((8, 28, 28), 8, 3, padding=1),\n",
    "    InstanceNorm(8),\n",
    "    ELU(),\n",
    "    ConvolutionalLayer((8, 28, 28), 8, 3, padding=1),\n",
    "    InstanceNorm(8),\n",
    "    ELU(),\n",
    "    MaxPooling((8, 28, 28), 2, 0, 2),\n",
    "    ConvolutionalLayer((8, 14, 14), 16, 3, padding=1),\n",
    "    InstanceNorm(16),\n",
    "    ELU(),\n",
    "    ConvolutionalLayer((16, 14, 14), 32, 3, padding=1),\n",
    "    InstanceNorm(32),\n",
    "    ELU(),\n",
    "    MaxPooling((32, 14, 14), 2, 0, 2),\n",
    "    Reshape((32, 7, 7) , (1, 32 * 7 * 7)),\n",
    "    Dense(32 * 7 * 7, 1024),\n",
    "    ELU(),\n",
    "    Dense(1024, 512),\n",
    "    ELU(),\n",
    "    Dense(512, 128),\n",
    "    ELU(),\n",
    "    Dense(128, 10),\n",
    "    Softmax()\n",
    "]\n",
    "\n",
    "network_5 = [\n",
    "    ConvolutionalLayer((1, 28, 28), 8, 3, padding=1),\n",
    "    InstanceNorm(8),\n",
    "    ELU(),\n",
    "    ConvolutionalLayer((8, 28, 28), 8, 3, padding=1),\n",
    "    InstanceNorm(8),\n",
    "    ELU(),\n",
    "    ConvolutionalLayer((8, 28, 28), 8, 3, padding=1),\n",
    "    InstanceNorm(8),\n",
    "    ELU(),\n",
    "    MaxPooling2((8, 28, 28), 2, 0, 2),\n",
    "    ConvolutionalLayer((8, 14, 14), 16, 3, padding=1),\n",
    "    InstanceNorm(16),\n",
    "    ELU(),\n",
    "    ConvolutionalLayer((16, 14, 14), 32, 3, padding=1),\n",
    "    InstanceNorm(32),\n",
    "    ELU(),\n",
    "    MaxPooling2((32, 14, 14), 2, 0, 2),\n",
    "    Reshape((32, 7, 7) , (1, 32 * 7 * 7)),\n",
    "    Dense(32 * 7 * 7, 1024),\n",
    "    ELU(),\n",
    "    Dense(1024, 512),\n",
    "    ELU(),\n",
    "    Dense(512, 128),\n",
    "    ELU(),\n",
    "    Dense(128, 10),\n",
    "    Softmax()\n",
    "]"
   ]
  },
  {
   "cell_type": "markdown",
   "metadata": {},
   "source": [
    "#### Testing the forward and backward pass runtimes"
   ]
  },
  {
   "cell_type": "code",
   "execution_count": 125,
   "metadata": {},
   "outputs": [],
   "source": [
    "def test_time(network, totals_only=False):\n",
    "    output =train_images[0]\n",
    "    tot = 0\n",
    "    for layer in network:\n",
    "        start = time.time()\n",
    "        output = layer.forward(output)\n",
    "        stop = time.time()\n",
    "\n",
    "        if not totals_only:\n",
    "            print(f\"\\tForward {layer.__class__.__name__} time: {stop - start}\")\n",
    "        tot += stop - start\n",
    "\n",
    "    print(f\"Forward total: {tot}\")\n",
    "\n",
    "    y = train_labels[0]\n",
    "    grad = categorical_cross_entropy_prime(y, output)\n",
    "    tot = 0\n",
    "    for layer in reversed(network):\n",
    "        start = time.time()\n",
    "        grad = layer.backward(grad, 0)\n",
    "        stop = time.time()\n",
    "\n",
    "        if not totals_only:\n",
    "            print(f\"\\tBackward {layer.__class__.__name__} time: {stop - start}\")\n",
    "        tot += stop - start\n",
    "\n",
    "    print(f\"Backward total: {tot}\")"
   ]
  },
  {
   "cell_type": "code",
   "execution_count": 135,
   "metadata": {},
   "outputs": [
    {
     "name": "stdout",
     "output_type": "stream",
     "text": [
      "Network 1:\n",
      "Forward total: 0.027707815170288086\n",
      "Backward total: 0.21729445457458496\n",
      "Network 2:\n",
      "Forward total: 0.04359102249145508\n",
      "Backward total: 0.24150609970092773\n"
     ]
    }
   ],
   "source": [
    "networks = [network_4, network_5]\n",
    "\n",
    "for i, network in enumerate(networks):\n",
    "    print(f\"Network {i+1}:\")\n",
    "    test_time(network, totals_only=True)"
   ]
  },
  {
   "cell_type": "markdown",
   "metadata": {},
   "source": [
    "## Training"
   ]
  },
  {
   "cell_type": "code",
   "execution_count": 58,
   "metadata": {},
   "outputs": [],
   "source": [
    "networks = [network_1, network_2] #, network_3, network_4"
   ]
  },
  {
   "cell_type": "code",
   "execution_count": 59,
   "metadata": {},
   "outputs": [
    {
     "name": "stdout",
     "output_type": "stream",
     "text": [
      "Network 1:\n",
      "1/40, error=0.19788278275336915, lr = 0.01\n",
      "2/40, error=0.12379017879922409, lr = 0.00975\n",
      "3/40, error=0.09800749828688574, lr = 0.009506249999999999\n",
      "4/40, error=0.07672266510084658, lr = 0.009268593749999998\n",
      "5/40, error=0.0825670425973118, lr = 0.009036878906249999\n",
      "6/40, error=0.0833144058691778, lr = 0.00881095693359375\n",
      "7/40, error=0.09027746191471529, lr = 0.008590683010253905\n",
      "8/40, error=0.06951139413694667, lr = 0.008375915934997558\n",
      "9/40, error=0.060665379738033605, lr = 0.00816651803662262\n",
      "10/40, error=0.0675245335449476, lr = 0.007962355085707053\n",
      "11/40, error=0.07300158489746814, lr = 0.007763296208564377\n",
      "12/40, error=0.059194922418656266, lr = 0.007569213803350267\n",
      "13/40, error=0.05713727213897058, lr = 0.00737998345826651\n",
      "14/40, error=0.06422356876835823, lr = 0.007195483871809847\n",
      "15/40, error=0.052852189124348345, lr = 0.007015596775014601\n",
      "16/40, error=0.054802166155272954, lr = 0.006840206855639235\n",
      "17/40, error=0.05109813418349524, lr = 0.006669201684248254\n",
      "18/40, error=0.05031077047338055, lr = 0.006502471642142047\n",
      "19/40, error=0.0477318535063316, lr = 0.006339909851088496\n",
      "20/40, error=0.04965316057318461, lr = 0.006181412104811284\n",
      "21/40, error=0.04795379515379143, lr = 0.006026876802191002\n",
      "22/40, error=0.04007695749187468, lr = 0.005876204882136226\n",
      "23/40, error=0.0504531619889537, lr = 0.005729299760082821\n",
      "24/40, error=0.06531326195825911, lr = 0.00558606726608075\n",
      "25/40, error=0.05017913103488068, lr = 0.0054464155844287316\n",
      "26/40, error=0.0656829964070906, lr = 0.005310255194818013\n",
      "27/40, error=0.04782444489297396, lr = 0.0051774988149475626\n",
      "28/40, error=0.063515391834115, lr = 0.005048061344573873\n",
      "29/40, error=0.05463416822734648, lr = 0.004921859810959527\n",
      "30/40, error=0.07042971356387615, lr = 0.004798813315685538\n",
      "31/40, error=0.05063309332992681, lr = 0.0046788429827933995\n",
      "32/40, error=0.06909926821939129, lr = 0.004561871908223564\n",
      "33/40, error=0.049435515280109844, lr = 0.004447825110517975\n",
      "34/40, error=0.054861840464384914, lr = 0.004336629482755025\n",
      "35/40, error=0.05808655144608014, lr = 0.004228213745686149\n",
      "36/40, error=0.055694265639798964, lr = 0.004122508402043995\n",
      "37/40, error=0.04191116942689858, lr = 0.004019445691992895\n",
      "38/40, error=0.05499375640414695, lr = 0.003918959549693073\n",
      "39/40, error=0.04964495598385171, lr = 0.0038209855609507458\n",
      "40/40, error=0.06017215553683603, lr = 0.003725460921926977\n",
      "Network 1 test accuracy: 0.8462\n",
      "Network 2:\n",
      "1/53, error=0.2279282445842524, lr = 0.01\n",
      "2/53, error=0.17170842720109203, lr = 0.00975\n",
      "3/53, error=0.11729757701989416, lr = 0.009506249999999999\n",
      "4/53, error=0.10160902433139732, lr = 0.009268593749999998\n",
      "5/53, error=0.07590332773338813, lr = 0.009036878906249999\n",
      "6/53, error=0.08225312001208385, lr = 0.00881095693359375\n",
      "7/53, error=0.06740891728644582, lr = 0.008590683010253905\n",
      "8/53, error=0.056617957888599864, lr = 0.008375915934997558\n",
      "9/53, error=0.05209927388374056, lr = 0.00816651803662262\n",
      "10/53, error=0.07218672822665222, lr = 0.007962355085707053\n",
      "11/53, error=0.059459157060386944, lr = 0.007763296208564377\n",
      "12/53, error=0.0441674805084156, lr = 0.007569213803350267\n",
      "13/53, error=0.05201869432636068, lr = 0.00737998345826651\n",
      "14/53, error=0.0397707400489764, lr = 0.007195483871809847\n",
      "15/53, error=0.05421475287463527, lr = 0.007015596775014601\n",
      "16/53, error=0.04505489416294396, lr = 0.006840206855639235\n",
      "17/53, error=0.04136751934004801, lr = 0.006669201684248254\n",
      "18/53, error=0.02863413488782876, lr = 0.006502471642142047\n",
      "19/53, error=0.04874511918791236, lr = 0.006339909851088496\n",
      "20/53, error=0.032636382274767305, lr = 0.006181412104811284\n",
      "21/53, error=0.03221721359903708, lr = 0.006026876802191002\n",
      "22/53, error=0.04277094453370438, lr = 0.005876204882136226\n",
      "23/53, error=0.04393736009748135, lr = 0.005729299760082821\n",
      "24/53, error=0.035105993789686006, lr = 0.00558606726608075\n",
      "25/53, error=0.029587527817919422, lr = 0.0054464155844287316\n",
      "26/53, error=0.06223753621304668, lr = 0.005310255194818013\n",
      "27/53, error=0.05533245867123566, lr = 0.0051774988149475626\n",
      "28/53, error=0.037045063494497266, lr = 0.005048061344573873\n",
      "29/53, error=0.03494240683594895, lr = 0.004921859810959527\n",
      "30/53, error=0.028616678251956008, lr = 0.004798813315685538\n",
      "31/53, error=0.04231858152700636, lr = 0.0046788429827933995\n",
      "32/53, error=0.042305138759339646, lr = 0.004561871908223564\n",
      "33/53, error=0.02973035988534817, lr = 0.004447825110517975\n",
      "34/53, error=0.02511471621956883, lr = 0.004336629482755025\n",
      "35/53, error=0.02372096814964036, lr = 0.004228213745686149\n",
      "36/53, error=0.041967344606158925, lr = 0.004122508402043995\n",
      "37/53, error=0.02221137988586515, lr = 0.004019445691992895\n",
      "38/53, error=0.03337998174997573, lr = 0.003918959549693073\n",
      "39/53, error=0.04880486301006027, lr = 0.0038209855609507458\n",
      "40/53, error=0.0415831381434732, lr = 0.003725460921926977\n",
      "41/53, error=0.025526843788738623, lr = 0.0036323243988788025\n",
      "42/53, error=0.021021511731985035, lr = 0.0035415162889068322\n",
      "43/53, error=0.030915872163547454, lr = 0.0034529783816841615\n",
      "44/53, error=0.042157226072886474, lr = 0.0033666539221420574\n",
      "45/53, error=0.023810487274120544, lr = 0.003282487574088506\n",
      "46/53, error=0.031187786611657824, lr = 0.0032004253847362934\n",
      "47/53, error=0.03819917851169294, lr = 0.003120414750117886\n",
      "48/53, error=0.03758960388231685, lr = 0.0030424043813649386\n",
      "49/53, error=0.02618438095905028, lr = 0.002966344271830815\n",
      "50/53, error=0.022283489824508132, lr = 0.0028921856650350446\n",
      "51/53, error=0.023707033081056313, lr = 0.0028198810234091685\n",
      "52/53, error=0.029527040913357273, lr = 0.002749383997823939\n",
      "53/53, error=0.036534472783583426, lr = 0.0026806493978783407\n",
      "Network 2 test accuracy: 0.905\n",
      "Network 3:\n",
      "1/66, error=0.21676062570578866, lr = 0.01\n",
      "2/66, error=0.14109631169431677, lr = 0.00975\n",
      "3/66, error=0.08411359090539573, lr = 0.009506249999999999\n",
      "4/66, error=0.06248452021761621, lr = 0.009268593749999998\n",
      "5/66, error=0.09011896544679066, lr = 0.009036878906249999\n",
      "6/66, error=0.05905205856481584, lr = 0.00881095693359375\n",
      "7/66, error=0.07594888553449196, lr = 0.008590683010253905\n",
      "8/66, error=0.0741307872614957, lr = 0.008375915934997558\n",
      "9/66, error=0.0346272959041881, lr = 0.00816651803662262\n",
      "10/66, error=0.053934679274287356, lr = 0.007962355085707053\n",
      "11/66, error=0.022891146514304683, lr = 0.007763296208564377\n",
      "12/66, error=0.05066883493320157, lr = 0.007569213803350267\n",
      "13/66, error=0.04343197918674944, lr = 0.00737998345826651\n",
      "14/66, error=0.019437402937979395, lr = 0.007195483871809847\n",
      "15/66, error=0.03750806944479539, lr = 0.007015596775014601\n",
      "16/66, error=0.017828610843259898, lr = 0.006840206855639235\n",
      "17/66, error=0.03975141600012295, lr = 0.006669201684248254\n",
      "18/66, error=0.0418230595268271, lr = 0.006502471642142047\n",
      "19/66, error=0.03368418644583703, lr = 0.006339909851088496\n",
      "20/66, error=0.028353249549303454, lr = 0.006181412104811284\n",
      "21/66, error=0.029129363738690066, lr = 0.006026876802191002\n",
      "22/66, error=0.04454968976294327, lr = 0.005876204882136226\n",
      "23/66, error=0.033346054039082786, lr = 0.005729299760082821\n",
      "24/66, error=0.024458916811073456, lr = 0.00558606726608075\n",
      "25/66, error=0.02137694265839089, lr = 0.0054464155844287316\n",
      "26/66, error=0.029938840509296787, lr = 0.005310255194818013\n",
      "27/66, error=0.024673060124054114, lr = 0.0051774988149475626\n",
      "28/66, error=0.02362575154222309, lr = 0.005048061344573873\n",
      "29/66, error=0.012526803679004796, lr = 0.004921859810959527\n",
      "30/66, error=0.028750464259194333, lr = 0.004798813315685538\n",
      "31/66, error=0.022682832808348912, lr = 0.0046788429827933995\n",
      "32/66, error=0.02520135272043405, lr = 0.004561871908223564\n",
      "33/66, error=0.03372104958313706, lr = 0.004447825110517975\n",
      "34/66, error=0.023154040472433347, lr = 0.004336629482755025\n",
      "35/66, error=0.01750482153050292, lr = 0.004228213745686149\n",
      "36/66, error=0.0158614969060347, lr = 0.004122508402043995\n",
      "37/66, error=0.017230551861709464, lr = 0.004019445691992895\n",
      "38/66, error=0.021189507426520825, lr = 0.003918959549693073\n",
      "39/66, error=0.017594164199886044, lr = 0.0038209855609507458\n",
      "40/66, error=0.02188775988493291, lr = 0.003725460921926977\n",
      "41/66, error=0.009369221342186134, lr = 0.0036323243988788025\n",
      "42/66, error=0.025166194604306295, lr = 0.0035415162889068322\n",
      "43/66, error=0.00979835812546736, lr = 0.0034529783816841615\n",
      "44/66, error=0.022950997062382777, lr = 0.0033666539221420574\n",
      "45/66, error=0.020893266488455704, lr = 0.003282487574088506\n",
      "46/66, error=0.031573133221934335, lr = 0.0032004253847362934\n",
      "47/66, error=0.03076220295228821, lr = 0.003120414750117886\n",
      "48/66, error=0.018983739950418237, lr = 0.0030424043813649386\n",
      "49/66, error=0.014546632957706213, lr = 0.002966344271830815\n",
      "50/66, error=0.013471104488402691, lr = 0.0028921856650350446\n",
      "51/66, error=0.013717731006716308, lr = 0.0028198810234091685\n",
      "52/66, error=0.010636105840037584, lr = 0.002749383997823939\n",
      "53/66, error=0.017658921456280192, lr = 0.0026806493978783407\n",
      "54/66, error=0.017361742901391718, lr = 0.002613633162931382\n",
      "55/66, error=0.008496703989752736, lr = 0.0025482923338580976\n",
      "56/66, error=0.01613023271688772, lr = 0.002484585025511645\n",
      "57/66, error=0.016328021505665258, lr = 0.002422470399873854\n",
      "58/66, error=0.014889382378588101, lr = 0.0023619086398770075\n",
      "59/66, error=0.018036604818109224, lr = 0.002302860923880082\n",
      "60/66, error=0.014033483829354206, lr = 0.00224528940078308\n",
      "61/66, error=0.01186982526898967, lr = 0.002189157165763503\n",
      "62/66, error=0.01840405705577262, lr = 0.0021344282366194153\n",
      "63/66, error=0.026631271083818003, lr = 0.00208106753070393\n",
      "64/66, error=0.008588067105366708, lr = 0.0020290408424363314\n",
      "65/66, error=0.022181499395341968, lr = 0.001978314821375423\n",
      "66/66, error=0.009776970113362024, lr = 0.0019288569508410375\n",
      "Network 3 test accuracy: 0.9596\n",
      "Network 4:\n",
      "1/80, error=0.3606945127909389, lr = 0.01\n",
      "2/80, error=0.15569978031222653, lr = 0.00975\n",
      "3/80, error=0.11240176275479508, lr = 0.009506249999999999\n",
      "4/80, error=0.10691534156164864, lr = 0.009268593749999998\n",
      "5/80, error=0.09080570843970333, lr = 0.009036878906249999\n"
     ]
    },
    {
     "ename": "KeyboardInterrupt",
     "evalue": "",
     "output_type": "error",
     "traceback": [
      "\u001b[1;31m---------------------------------------------------------------------------\u001b[0m",
      "\u001b[1;31mKeyboardInterrupt\u001b[0m                         Traceback (most recent call last)",
      "Cell \u001b[1;32mIn[59], line 7\u001b[0m\n\u001b[0;32m      5\u001b[0m \u001b[38;5;28;01mfor\u001b[39;00m i, network \u001b[38;5;129;01min\u001b[39;00m \u001b[38;5;28menumerate\u001b[39m(networks):\n\u001b[0;32m      6\u001b[0m     \u001b[38;5;28mprint\u001b[39m(\u001b[38;5;124mf\u001b[39m\u001b[38;5;124m\"\u001b[39m\u001b[38;5;124mNetwork \u001b[39m\u001b[38;5;132;01m{\u001b[39;00mi\u001b[38;5;241m+\u001b[39m\u001b[38;5;241m1\u001b[39m\u001b[38;5;132;01m}\u001b[39;00m\u001b[38;5;124m:\u001b[39m\u001b[38;5;124m\"\u001b[39m)\n\u001b[1;32m----> 7\u001b[0m     errors, test_scores \u001b[38;5;241m=\u001b[39m \u001b[43mtrain\u001b[49m\u001b[43m(\u001b[49m\n\u001b[0;32m      8\u001b[0m \u001b[43m        \u001b[49m\u001b[43mnetwork\u001b[49m\u001b[43m,\u001b[49m\n\u001b[0;32m      9\u001b[0m \u001b[43m        \u001b[49m\u001b[43mcategorical_cross_entropy\u001b[49m\u001b[43m,\u001b[49m\n\u001b[0;32m     10\u001b[0m \u001b[43m        \u001b[49m\u001b[43mcategorical_cross_entropy_prime\u001b[49m\u001b[43m,\u001b[49m\n\u001b[0;32m     11\u001b[0m \u001b[43m        \u001b[49m\u001b[43mtrain_images\u001b[49m\u001b[43m,\u001b[49m\n\u001b[0;32m     12\u001b[0m \u001b[43m        \u001b[49m\u001b[43mtrain_labels\u001b[49m\u001b[43m,\u001b[49m\n\u001b[0;32m     13\u001b[0m \u001b[43m        \u001b[49m\u001b[43mtest_images\u001b[49m\u001b[43m,\u001b[49m\n\u001b[0;32m     14\u001b[0m \u001b[43m        \u001b[49m\u001b[43mtest_labels\u001b[49m\u001b[43m,\u001b[49m\n\u001b[0;32m     15\u001b[0m \u001b[43m        \u001b[49m\u001b[43mepochs\u001b[49m\u001b[38;5;241;43m=\u001b[39;49m\u001b[38;5;28;43mint\u001b[39;49m\u001b[43m(\u001b[49m\u001b[38;5;241;43m40\u001b[39;49m\u001b[43m \u001b[49m\u001b[38;5;241;43m+\u001b[39;49m\u001b[43m \u001b[49m\u001b[38;5;241;43m40\u001b[39;49m\u001b[43m \u001b[49m\u001b[38;5;241;43m*\u001b[39;49m\u001b[43m \u001b[49m\u001b[43m(\u001b[49m\u001b[43mi\u001b[49m\u001b[43m)\u001b[49m\u001b[43m \u001b[49m\u001b[38;5;241;43m/\u001b[39;49m\u001b[43m \u001b[49m\u001b[43m(\u001b[49m\u001b[38;5;28;43mlen\u001b[39;49m\u001b[43m(\u001b[49m\u001b[43mnetworks\u001b[49m\u001b[43m)\u001b[49m\u001b[43m \u001b[49m\u001b[38;5;241;43m-\u001b[39;49m\u001b[43m \u001b[49m\u001b[38;5;241;43m1\u001b[39;49m\u001b[43m)\u001b[49m\u001b[43m)\u001b[49m\u001b[43m,\u001b[49m\u001b[43m   \u001b[49m\u001b[38;5;66;43;03m# 35\u001b[39;49;00m\n\u001b[0;32m     16\u001b[0m \u001b[43m        \u001b[49m\u001b[43mlearning_rate\u001b[49m\u001b[38;5;241;43m=\u001b[39;49m\u001b[38;5;241;43m0.01\u001b[39;49m\u001b[43m,\u001b[49m\n\u001b[0;32m     17\u001b[0m \u001b[43m        \u001b[49m\u001b[43mlr_decay\u001b[49m\u001b[38;5;241;43m=\u001b[39;49m\u001b[38;5;241;43m0.975\u001b[39;49m\u001b[43m,\u001b[49m\n\u001b[0;32m     18\u001b[0m \u001b[43m        \u001b[49m\u001b[43mbatch_size\u001b[49m\u001b[38;5;241;43m=\u001b[39;49m\u001b[38;5;241;43m128\u001b[39;49m\u001b[43m,\u001b[49m\u001b[43m   \u001b[49m\u001b[38;5;66;43;03m# 128\u001b[39;49;00m\n\u001b[0;32m     19\u001b[0m \u001b[43m        \u001b[49m\u001b[43mtest_epochs\u001b[49m\u001b[38;5;241;43m=\u001b[39;49m\u001b[38;5;241;43m5\u001b[39;49m\n\u001b[0;32m     20\u001b[0m \u001b[43m    \u001b[49m\u001b[43m)\u001b[49m\n\u001b[0;32m     22\u001b[0m     all_errors\u001b[38;5;241m.\u001b[39mappend(errors)\n\u001b[0;32m     23\u001b[0m     all_test_scores\u001b[38;5;241m.\u001b[39mappend(test_scores)\n",
      "Cell \u001b[1;32mIn[44], line 23\u001b[0m, in \u001b[0;36mtrain\u001b[1;34m(network, loss, loss_prime, x_train, y_train, x_test, y_test, epochs, learning_rate, lr_decay, batch_size, verbose, test_epochs)\u001b[0m\n\u001b[0;32m     21\u001b[0m     grad \u001b[38;5;241m=\u001b[39m loss_prime(y, output)\n\u001b[0;32m     22\u001b[0m     \u001b[38;5;28;01mfor\u001b[39;00m layer \u001b[38;5;129;01min\u001b[39;00m \u001b[38;5;28mreversed\u001b[39m(network):\n\u001b[1;32m---> 23\u001b[0m         grad \u001b[38;5;241m=\u001b[39m \u001b[43mlayer\u001b[49m\u001b[38;5;241;43m.\u001b[39;49m\u001b[43mbackward\u001b[49m\u001b[43m(\u001b[49m\u001b[43mgrad\u001b[49m\u001b[43m,\u001b[49m\u001b[43m \u001b[49m\u001b[43mlearning_rate\u001b[49m\u001b[43m)\u001b[49m\n\u001b[0;32m     25\u001b[0m error \u001b[38;5;241m/\u001b[39m\u001b[38;5;241m=\u001b[39m batch_size\n\u001b[0;32m     26\u001b[0m \u001b[38;5;28;01mif\u001b[39;00m verbose:\n",
      "Cell \u001b[1;32mIn[43], line 63\u001b[0m, in \u001b[0;36mInstanceNorm.backward\u001b[1;34m(self, output_gradient, learning_rate)\u001b[0m\n\u001b[0;32m     60\u001b[0m term2 \u001b[38;5;241m=\u001b[39m ((\u001b[38;5;28mself\u001b[39m\u001b[38;5;241m.\u001b[39minput \u001b[38;5;241m-\u001b[39m \u001b[38;5;28mself\u001b[39m\u001b[38;5;241m.\u001b[39mmean) \u001b[38;5;241m/\u001b[39m (n \u001b[38;5;241m*\u001b[39m \u001b[38;5;28mself\u001b[39m\u001b[38;5;241m.\u001b[39mstd))\u001b[38;5;241m.\u001b[39mreshape(\u001b[38;5;28mself\u001b[39m\u001b[38;5;241m.\u001b[39mnum_features, \u001b[38;5;241m-\u001b[39m\u001b[38;5;241m1\u001b[39m)[:, :, np\u001b[38;5;241m.\u001b[39mnewaxis]\n\u001b[0;32m     61\u001b[0m term3 \u001b[38;5;241m=\u001b[39m ((\u001b[38;5;28mself\u001b[39m\u001b[38;5;241m.\u001b[39minput \u001b[38;5;241m-\u001b[39m \u001b[38;5;28mself\u001b[39m\u001b[38;5;241m.\u001b[39mmean) \u001b[38;5;241m/\u001b[39m ((\u001b[38;5;28mself\u001b[39m\u001b[38;5;241m.\u001b[39mstd \u001b[38;5;241m+\u001b[39m \u001b[38;5;28mself\u001b[39m\u001b[38;5;241m.\u001b[39meps)\u001b[38;5;241m*\u001b[39m\u001b[38;5;241m*\u001b[39m\u001b[38;5;241m2\u001b[39m))\u001b[38;5;241m.\u001b[39mreshape(\u001b[38;5;28mself\u001b[39m\u001b[38;5;241m.\u001b[39mnum_features, \u001b[38;5;241m-\u001b[39m\u001b[38;5;241m1\u001b[39m)[:, np\u001b[38;5;241m.\u001b[39mnewaxis, :]\n\u001b[1;32m---> 63\u001b[0m dy_dx \u001b[38;5;241m=\u001b[39m term1 \u001b[38;5;241m-\u001b[39m \u001b[43mterm2\u001b[49m\u001b[43m \u001b[49m\u001b[38;5;241;43m*\u001b[39;49m\u001b[43m \u001b[49m\u001b[43mterm3\u001b[49m\n\u001b[0;32m     65\u001b[0m dx_flat \u001b[38;5;241m=\u001b[39m np\u001b[38;5;241m.\u001b[39marray([np\u001b[38;5;241m.\u001b[39mdot(dy_dx[i], dy_flat[i]) \u001b[38;5;28;01mfor\u001b[39;00m i \u001b[38;5;129;01min\u001b[39;00m \u001b[38;5;28mrange\u001b[39m(\u001b[38;5;28mlen\u001b[39m(dy_dx))])\n\u001b[0;32m     67\u001b[0m \u001b[38;5;28;01mif\u001b[39;00m \u001b[38;5;28mself\u001b[39m\u001b[38;5;241m.\u001b[39maffine:\n",
      "\u001b[1;31mKeyboardInterrupt\u001b[0m: "
     ]
    }
   ],
   "source": [
    "# train\n",
    "all_errors = []\n",
    "all_test_scores = []\n",
    "totals = []\n",
    "for i, network in enumerate(networks):\n",
    "    print(f\"Network {i+1}:\")\n",
    "    errors, test_scores = train(\n",
    "        network,\n",
    "        categorical_cross_entropy,\n",
    "        categorical_cross_entropy_prime,\n",
    "        train_images,\n",
    "        train_labels,\n",
    "        test_images,\n",
    "        test_labels,\n",
    "        epochs=int(40 + 40 * (i) / (len(networks) - 1)),   # 35\n",
    "        learning_rate=0.01,\n",
    "        lr_decay=0.975,\n",
    "        batch_size=128,   # 128\n",
    "        test_epochs=5\n",
    "    )\n",
    "\n",
    "    all_errors.append(errors)\n",
    "    all_test_scores.append(test_scores)\n",
    "\n",
    "    # test\n",
    "    correct = 0\n",
    "    for x, y in zip(test_images, test_labels):\n",
    "        output = predict(network, x)\n",
    "        correct += np.argmax(output) == np.argmax(y)\n",
    "\n",
    "    totals.append(correct / len(test_images))\n",
    "\n",
    "    print(f\"Network {i+1} test accuracy: {correct / len(test_images)}\")\n",
    "\n",
    "for i, network in enumerate(networks):\n",
    "    print(f\"Network {i+1}: {totals[i]}\")"
   ]
  },
  {
   "cell_type": "code",
   "execution_count": 159,
   "metadata": {},
   "outputs": [
    {
     "data": {
      "text/plain": [
       "[0.852, 0.9073, 0.9618, 0.9647]"
      ]
     },
     "execution_count": 159,
     "metadata": {},
     "output_type": "execute_result"
    }
   ],
   "source": [
    "totals"
   ]
  },
  {
   "cell_type": "code",
   "execution_count": 160,
   "metadata": {},
   "outputs": [
    {
     "data": {
      "text/plain": [
       "<matplotlib.legend.Legend at 0x1dc8fe72490>"
      ]
     },
     "execution_count": 160,
     "metadata": {},
     "output_type": "execute_result"
    },
    {
     "data": {
      "image/png": "[encoded data removed]",
      "text/plain": [
       "<Figure size 640x480 with 1 Axes>"
      ]
     },
     "metadata": {},
     "output_type": "display_data"
    }
   ],
   "source": [
    "import matplotlib.pyplot as plt\n",
    "\n",
    "for i, errors in enumerate(all_errors):\n",
    "    plt.plot(errors, label=f\"Network {i+1}\")\n",
    "\n",
    "plt.xlabel(\"Epochs\")\n",
    "plt.ylabel(\"Error\")\n",
    "plt.legend()"
   ]
  },
  {
   "cell_type": "code",
   "execution_count": 161,
   "metadata": {},
   "outputs": [
    {
     "data": {
      "text/plain": [
       "<matplotlib.legend.Legend at 0x1dc91082880>"
      ]
     },
     "execution_count": 161,
     "metadata": {},
     "output_type": "execute_result"
    },
    {
     "data": {
      "image/png": "[encoded data removed]",
      "text/plain": [
       "<Figure size 640x480 with 1 Axes>"
      ]
     },
     "metadata": {},
     "output_type": "display_data"
    }
   ],
   "source": [
    "for i, test_scores in enumerate(all_test_scores):\n",
    "    plt.plot(np.arange(0, len(test_scores) * 5, 5), test_scores, label=f\"Network {i+1} test\")\n",
    "\n",
    "plt.xlabel(\"Epochs\")\n",
    "plt.ylabel(\"Error\")\n",
    "plt.legend()"
   ]
  },
  {
   "cell_type": "markdown",
   "metadata": {},
   "source": [
    "## Adversarial Attack - FGSM"
   ]
  },
  {
   "cell_type": "code",
   "execution_count": 162,
   "metadata": {},
   "outputs": [],
   "source": [
    "breakdowns = [[], [], [], []]\n",
    "no_breakdowns = [0, 0, 0, 0]\n",
    "\n",
    "for i in range(100):\n",
    "    digit_id = i\n",
    "    digit = test_images[digit_id]\n",
    "    label = test_labels[digit_id]\n",
    "    for j, newtwork in enumerate(networks):\n",
    "        output = predict(newtwork, digit)\n",
    "\n",
    "        output_gradient = categorical_cross_entropy_prime(label, output)\n",
    "        for layer in reversed(network):\n",
    "            output_gradient = layer.backward(output_gradient, 0)\n",
    "\n",
    "        perturbations = np.sign(output_gradient) * 0.5 + 0.5\n",
    "\n",
    "        epsilons = [0, 0.05, 0.1, 0.3, 0.5]\n",
    "\n",
    "        for k, eps in enumerate(epsilons):\n",
    "            adv_x = digit + eps * perturbations\n",
    "            adv_x = (adv_x - np.min(adv_x)) / (np.max(adv_x) - np.min(adv_x))\n",
    "            \n",
    "            preds = predict(network, np.reshape(adv_x, (1, 28, 28)))\n",
    "\n",
    "            if np.argmax(preds) != np.argmax(label):\n",
    "                breakdowns[j].append(k)\n",
    "                break\n",
    "\n",
    "            if k == len(epsilons) - 1:\n",
    "                no_breakdowns[j] += 1"
   ]
  },
  {
   "cell_type": "code",
   "execution_count": 163,
   "metadata": {},
   "outputs": [
    {
     "data": {
      "image/png": "[encoded data removed]",
      "text/plain": [
       "<Figure size 2000x500 with 4 Axes>"
      ]
     },
     "metadata": {},
     "output_type": "display_data"
    }
   ],
   "source": [
    "fig, ax = plt.subplots(1, 4, figsize=(20, 5))\n",
    "\n",
    "for i in range(4):\n",
    "    ax[i].hist(breakdowns[i], bins=7, range=(0, 7))"
   ]
  },
  {
   "cell_type": "code",
   "execution_count": 31,
   "metadata": {},
   "outputs": [
    {
     "name": "stdout",
     "output_type": "stream",
     "text": [
      "[83, 10, 3, 22]\n"
     ]
    }
   ],
   "source": [
    "print(no_breakdowns)"
   ]
  },
  {
   "cell_type": "code",
   "execution_count": 35,
   "metadata": {},
   "outputs": [
    {
     "name": "stdout",
     "output_type": "stream",
     "text": [
      "[17, 90, 97, 78]\n"
     ]
    }
   ],
   "source": [
    "print([len(i) for i in breakdowns])"
   ]
  }
 ],
 "metadata": {
  "kernelspec": {
   "display_name": "tf",
   "language": "python",
   "name": "python3"
  },
  "language_info": {
   "codemirror_mode": {
    "name": "ipython",
    "version": 3
   },
   "file_extension": ".py",
   "mimetype": "text/x-python",
   "name": "python",
   "nbconvert_exporter": "python",
   "pygments_lexer": "ipython3",
   "version": "3.9.16"
  }
 },
 "nbformat": 4,
 "nbformat_minor": 2
}
