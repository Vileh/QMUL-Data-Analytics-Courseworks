{
 "cells": [
  {
   "cell_type": "code",
   "execution_count": 3,
   "metadata": {},
   "outputs": [],
   "source": [
    "import numpy as np\n",
    "from scipy import signal\n",
    "import cv2\n",
    "import matplotlib.pyplot as plt\n",
    "import time"
   ]
  },
  {
   "cell_type": "markdown",
   "metadata": {},
   "source": [
    "## Data\n",
    "\n",
    "#### Load MNIST digit dataset"
   ]
  },
  {
   "cell_type": "code",
   "execution_count": 4,
   "metadata": {},
   "outputs": [],
   "source": [
    "from keras.datasets import mnist\n",
    "from keras.utils import to_categorical\n",
    "\n",
    "# Load MNIST data\n",
    "(train_images, train_labels), (test_images, test_labels) = mnist.load_data()\n",
    "\n",
    "# Normalize pixel values to the range [0, 1]\n",
    "train_images = train_images.astype('float32') / 255\n",
    "test_images = test_images.astype('float32') / 255\n",
    "\n",
    "# Reshape the images data\n",
    "train_images = np.expand_dims(train_images, axis=1)\n",
    "test_images = np.expand_dims(test_images, axis=1)\n",
    "\n",
    "# One-hot encode the labels\n",
    "train_labels = to_categorical(train_labels)\n",
    "test_labels = to_categorical(test_labels)\n",
    "\n",
    "# Reshape the labels\n",
    "train_labels = train_labels.reshape(-1, 1, 10)\n",
    "test_labels = test_labels.reshape(-1, 1, 10)"
   ]
  },
  {
   "cell_type": "markdown",
   "metadata": {},
   "source": [
    "#### Generating new images"
   ]
  },
  {
   "cell_type": "code",
   "execution_count": 3,
   "metadata": {},
   "outputs": [],
   "source": [
    "def generate_new_images(images, labels, num_new_images):\n",
    "    new_images = []\n",
    "    new_labels = []\n",
    "    \n",
    "    for _ in range(num_new_images):\n",
    "        # Select a random image from the input images\n",
    "        index = np.random.randint(0, len(images) - 1)\n",
    "        image = images[index][0]\n",
    "        label = labels[index]\n",
    "        \n",
    "        # Random rotation angle\n",
    "        angle = np.random.uniform(-10, 10)\n",
    "        \n",
    "        # Random zoom factor\n",
    "        zoom_factor = np.random.uniform(0.9, 1.1)\n",
    "        \n",
    "        # Rotate and zoom the image\n",
    "        rotated = rotate_image(image, angle)\n",
    "        zoomed = zoom_image(rotated, zoom_factor)\n",
    "        \n",
    "        new_images.append(zoomed.reshape(1, 28, 28))\n",
    "        new_labels.append(label)\n",
    "        \n",
    "    return np.array(new_images), np.array(new_labels)\n",
    "\n",
    "def rotate_image(image, angle):\n",
    "    height, width = image.shape\n",
    "    center = (width // 2, height // 2)\n",
    "    rotation_matrix = cv2.getRotationMatrix2D(center, angle, 1.0)\n",
    "    rotated = cv2.warpAffine(image, rotation_matrix, (width, height), flags=cv2.INTER_NEAREST)\n",
    "    return rotated\n",
    "\n",
    "def zoom_image(image, zoom_factor):\n",
    "    height, width = image.shape\n",
    "    new_height, new_width = int(height * zoom_factor), int(width * zoom_factor)\n",
    "    zoomed = cv2.resize(image, (new_width, new_height), interpolation=cv2.INTER_NEAREST)\n",
    "    zoomed = cv2.resize(zoomed, (width, height), interpolation=cv2.INTER_NEAREST)\n",
    "    return zoomed"
   ]
  },
  {
   "cell_type": "code",
   "execution_count": null,
   "metadata": {},
   "outputs": [
    {
     "data": {
      "text/plain": [
       "(360000, 1, 28, 28)"
      ]
     },
     "execution_count": 4,
     "metadata": {},
     "output_type": "execute_result"
    }
   ],
   "source": [
    "generated_images, new_labels = generate_new_images(train_images, train_labels, 300000)\n",
    "train_images = np.concatenate((train_images, generated_images))\n",
    "train_labels = np.concatenate((train_labels, new_labels))\n",
    "\n",
    "train_images.shape"
   ]
  },
  {
   "cell_type": "markdown",
   "metadata": {},
   "source": [
    "## Defining the models"
   ]
  },
  {
   "cell_type": "code",
   "execution_count": 5,
   "metadata": {},
   "outputs": [],
   "source": [
    "from cnn import ConvolutionalLayer, MaxPooling, InstanceNorm, Reshape, Dense\n",
    "from activations import ELU, Softmax\n",
    "from auxiliary import predict, train, categorical_cross_entropy, categorical_cross_entropy_prime"
   ]
  },
  {
   "cell_type": "code",
   "execution_count": 6,
   "metadata": {},
   "outputs": [],
   "source": [
    "network_1 = [\n",
    "    ConvolutionalLayer((1, 28, 28), 2, 3, padding=1),\n",
    "    ELU(),\n",
    "    MaxPooling((2, 28, 28), 2, 0, 2),\n",
    "    Reshape((2, 14, 14) , (1, 2 * 14 * 14)),\n",
    "    Dense(2 * 14 * 14, 10),\n",
    "    Softmax()\n",
    "]\n",
    "\n",
    "network_2 = [\n",
    "    ConvolutionalLayer((1, 28, 28), 2, 3, padding=1),\n",
    "    ELU(),\n",
    "    MaxPooling((2, 28, 28), 2, 0, 2),\n",
    "    ConvolutionalLayer((2, 14, 14), 4, 3, padding=1),\n",
    "    ELU(),\n",
    "    MaxPooling((4, 14, 14), 2, 0, 2),\n",
    "    Reshape((4, 7, 7) , (1, 4 * 7 * 7)),\n",
    "    Dense(4 * 7 * 7, 512),\n",
    "    ELU(),\n",
    "    Dense(512, 10),\n",
    "    Softmax()\n",
    "]\n",
    "\n",
    "network_3 = [\n",
    "    ConvolutionalLayer((1, 28, 28), 8, 3, padding=1),\n",
    "    InstanceNorm(8),\n",
    "    ELU(),\n",
    "    ConvolutionalLayer((1, 28, 28), 8, 3, padding=1),\n",
    "    InstanceNorm(8),\n",
    "    ELU(),\n",
    "    MaxPooling((8, 28, 28), 2, 0, 2),\n",
    "    ConvolutionalLayer((8, 14, 14), 16, 3, padding=1),\n",
    "    InstanceNorm(16),\n",
    "    ELU(),\n",
    "    ConvolutionalLayer((8, 14, 14), 16, 3, padding=1),\n",
    "    InstanceNorm(16),\n",
    "    ELU(),\n",
    "    MaxPooling((16, 14, 14), 2, 0, 2),\n",
    "    Reshape((16, 7, 7) , (1, 16 * 7 * 7)),\n",
    "    Dense(16 * 7 * 7, 512),\n",
    "    ELU(),\n",
    "    Dense(512, 1024),\n",
    "    ELU(),\n",
    "    Dense(1024, 10),\n",
    "    Softmax()\n",
    "]\n",
    "\n",
    "network_3 = [\n",
    "    ConvolutionalLayer((1, 28, 28), 32, 3, padding=1),\n",
    "    InstanceNorm(32),\n",
    "    ELU(),\n",
    "    ConvolutionalLayer((1, 28, 28), 32, 3, padding=1),\n",
    "    InstanceNorm(32),\n",
    "    ELU(),\n",
    "    MaxPooling((32, 28, 28), 2, 0, 2),\n",
    "    ConvolutionalLayer((32, 14, 14), 64, 3, padding=1),\n",
    "    InstanceNorm(64),\n",
    "    ELU(),\n",
    "    ConvolutionalLayer((64, 14, 14), 64, 3, padding=1),\n",
    "    InstanceNorm(64),\n",
    "    ELU(),\n",
    "    MaxPooling((64, 14, 14), 2, 0, 2),\n",
    "    Reshape((64, 7, 7) , (1, 64 * 7 * 7)),\n",
    "    Dense(64 * 7 * 7, 512),\n",
    "    ELU(),\n",
    "    Dense(512, 1024),\n",
    "    ELU(),\n",
    "    Dense(1024, 10),\n",
    "    Softmax()\n",
    "]"
   ]
  },
  {
   "cell_type": "markdown",
   "metadata": {},
   "source": [
    "#### Testing the forward and backward pass runtimes"
   ]
  },
  {
   "cell_type": "code",
   "execution_count": 7,
   "metadata": {},
   "outputs": [],
   "source": [
    "def test_time(network, totals_only=False):\n",
    "    output =train_images[0]\n",
    "    tot = 0\n",
    "    for layer in network:\n",
    "        start = time.time()\n",
    "        output = layer.forward(output)\n",
    "        stop = time.time()\n",
    "\n",
    "        if not totals_only:\n",
    "            print(f\"\\tForward {layer.__class__.__name__} time: {stop - start}\")\n",
    "        tot += stop - start\n",
    "\n",
    "    print(f\"Forward total: {tot}\")\n",
    "\n",
    "    y = train_labels[0]\n",
    "    grad = categorical_cross_entropy_prime(y, output)\n",
    "    tot = 0\n",
    "    for layer in reversed(network):\n",
    "        start = time.time()\n",
    "        grad = layer.backward(grad, 0)\n",
    "        stop = time.time()\n",
    "\n",
    "        if not totals_only:\n",
    "            print(f\"\\tBackward {layer.__class__.__name__} time: {stop - start}\")\n",
    "        tot += stop - start\n",
    "\n",
    "    print(f\"Backward total: {tot}\")"
   ]
  },
  {
   "cell_type": "code",
   "execution_count": 10,
   "metadata": {},
   "outputs": [
    {
     "name": "stdout",
     "output_type": "stream",
     "text": [
      "Network 1:\n",
      "\tForward ConvolutionalLayer time: 0.002000570297241211\n",
      "\tForward InstanceNorm time: 0.0\n",
      "\tForward ELU time: 0.0\n",
      "\tForward ConvolutionalLayer time: 0.0009999275207519531\n",
      "\tForward InstanceNorm time: 0.0010004043579101562\n",
      "\tForward ELU time: 0.0\n",
      "\tForward MaxPooling time: 0.04646873474121094\n",
      "\tForward ConvolutionalLayer time: 0.0311431884765625\n",
      "\tForward InstanceNorm time: 0.0\n",
      "\tForward ELU time: 0.0\n",
      "\tForward ConvolutionalLayer time: 0.06755852699279785\n",
      "\tForward InstanceNorm time: 0.0\n",
      "\tForward ELU time: 0.0\n",
      "\tForward MaxPooling time: 0.020163297653198242\n",
      "\tForward Reshape time: 0.0\n",
      "\tForward Dense time: 0.002002239227294922\n",
      "\tForward ELU time: 0.0\n",
      "\tForward Dense time: 0.0\n",
      "\tForward ELU time: 0.0\n",
      "\tForward Dense time: 0.0\n",
      "\tForward Softmax time: 0.0\n",
      "Forward total: 0.17133688926696777\n",
      "\tBackward Softmax time: 0.0\n",
      "\tBackward Dense time: 0.0\n",
      "\tBackward ELU time: 0.0\n",
      "\tBackward Dense time: 0.009549140930175781\n",
      "\tBackward ELU time: 0.0\n",
      "\tBackward Dense time: 0.021259069442749023\n",
      "\tBackward Reshape time: 0.0\n",
      "\tBackward MaxPooling time: 0.05403280258178711\n",
      "\tBackward ELU time: 0.0009918212890625\n",
      "\tBackward InstanceNorm time: 0.04261660575866699\n",
      "\tBackward ConvolutionalLayer time: 0.11286783218383789\n",
      "\tBackward ELU time: 0.0\n",
      "\tBackward InstanceNorm time: 0.04091978073120117\n",
      "\tBackward ConvolutionalLayer time: 0.06423234939575195\n",
      "\tBackward MaxPooling time: 0.1310267448425293\n",
      "\tBackward ELU time: 0.0\n",
      "\tBackward InstanceNorm time: 0.2614166736602783\n",
      "\tBackward ConvolutionalLayer time: 0.011712074279785156\n",
      "\tBackward ELU time: 0.0\n",
      "\tBackward InstanceNorm time: 0.20379257202148438\n",
      "\tBackward ConvolutionalLayer time: 0.012758493423461914\n",
      "Backward total: 0.9671759605407715\n"
     ]
    }
   ],
   "source": [
    "networks = [network_3]\n",
    "\n",
    "for i, network in enumerate(networks):\n",
    "    print(f\"Network {i+1}:\")\n",
    "    test_time(network, totals_only=False)"
   ]
  },
  {
   "cell_type": "markdown",
   "metadata": {},
   "source": [
    "## Training"
   ]
  },
  {
   "cell_type": "code",
   "execution_count": 12,
   "metadata": {},
   "outputs": [],
   "source": [
    "networks = [network_3]"
   ]
  },
  {
   "cell_type": "code",
   "execution_count": 13,
   "metadata": {},
   "outputs": [
    {
     "name": "stdout",
     "output_type": "stream",
     "text": [
      "Network 1:\n",
      "1/150, error=0.6699397857466225, lr = 0.01\n",
      "2/150, error=0.32144569976665366, lr = 0.00999\n",
      "3/150, error=0.28085821429385455, lr = 0.009980010000000001\n",
      "4/150, error=0.1970555670586705, lr = 0.00997002999\n",
      "5/150, error=0.2526750506764079, lr = 0.00996005996001\n",
      "6/150, error=0.11560122810791588, lr = 0.00995009990004999\n",
      "7/150, error=0.16948933806350738, lr = 0.00994014980014994\n",
      "8/150, error=0.12579557189837953, lr = 0.00993020965034979\n",
      "9/150, error=0.1256249713318348, lr = 0.009920279440699441\n",
      "10/150, error=0.13835782538906838, lr = 0.009910359161258741\n",
      "11/150, error=0.09672181041792628, lr = 0.009900448802097483\n",
      "12/150, error=0.07482730116287215, lr = 0.009890548353295385\n",
      "13/150, error=0.054707033416623495, lr = 0.00988065780494209\n",
      "14/150, error=0.10836666073926332, lr = 0.009870777147137147\n",
      "15/150, error=0.09868049117090692, lr = 0.00986090636999001\n",
      "16/150, error=0.05574068386919106, lr = 0.00985104546362002\n",
      "17/150, error=0.048424829877619, lr = 0.0098411944181564\n",
      "18/150, error=0.02733603953300583, lr = 0.009831353223738242\n",
      "19/150, error=0.0321890196174443, lr = 0.009821521870514504\n",
      "20/150, error=0.037919536412450355, lr = 0.00981170034864399\n",
      "21/150, error=0.04476849467411595, lr = 0.009801888648295346\n",
      "22/150, error=0.07520838599283822, lr = 0.00979208675964705\n",
      "23/150, error=0.08138029508767662, lr = 0.009782294672887402\n",
      "24/150, error=0.04930183721015289, lr = 0.009772512378214516\n",
      "25/150, error=0.07514473260972468, lr = 0.009762739865836301\n",
      "26/150, error=0.0772928810323526, lr = 0.009752977125970464\n",
      "27/150, error=0.05986898398077685, lr = 0.009743224148844494\n",
      "28/150, error=0.037273605851214836, lr = 0.009733480924695649\n",
      "29/150, error=0.06127448207725989, lr = 0.009723747443770954\n",
      "30/150, error=0.07128290282396191, lr = 0.009714023696327182\n",
      "31/150, error=0.03013826137711293, lr = 0.009704309672630855\n",
      "32/150, error=0.0476940623108057, lr = 0.009694605362958224\n",
      "33/150, error=0.06398685364320181, lr = 0.009684910757595266\n",
      "34/150, error=0.04551604658386369, lr = 0.00967522584683767\n",
      "35/150, error=0.041797027012898155, lr = 0.009665550620990832\n",
      "36/150, error=0.03437687493195813, lr = 0.009655885070369841\n",
      "37/150, error=0.09943530525696266, lr = 0.009646229185299471\n",
      "38/150, error=0.0526178692833385, lr = 0.009636582956114172\n",
      "39/150, error=0.02035817840208554, lr = 0.009626946373158057\n",
      "40/150, error=0.03446732907139186, lr = 0.0096173194267849\n",
      "41/150, error=0.05572359712961898, lr = 0.009607702107358115\n",
      "42/150, error=0.07368656568993083, lr = 0.009598094405250756\n",
      "43/150, error=0.04882017984926812, lr = 0.009588496310845506\n",
      "44/150, error=0.0330857097577754, lr = 0.00957890781453466\n",
      "45/150, error=0.012048660889400537, lr = 0.009569328906720125\n",
      "46/150, error=0.04856820285087075, lr = 0.009559759577813404\n",
      "47/150, error=0.03767149226717514, lr = 0.009550199818235591\n",
      "48/150, error=0.054330696973021245, lr = 0.009540649618417356\n",
      "49/150, error=0.020115488222974875, lr = 0.009531108968798939\n",
      "50/150, error=0.036456080946610174, lr = 0.00952157785983014\n",
      "51/150, error=0.018070508966844954, lr = 0.00951205628197031\n",
      "52/150, error=0.011481736736761842, lr = 0.00950254422568834\n",
      "53/150, error=0.05427260935384419, lr = 0.009493041681462651\n",
      "54/150, error=0.04531861713577863, lr = 0.009483548639781188\n",
      "55/150, error=0.038763836776707694, lr = 0.009474065091141407\n",
      "56/150, error=0.03253912381554938, lr = 0.009464591026050266\n",
      "57/150, error=0.032430012101066844, lr = 0.009455126435024216\n",
      "58/150, error=0.02245881185030095, lr = 0.009445671308589192\n",
      "59/150, error=0.032707065687179154, lr = 0.009436225637280603\n",
      "60/150, error=0.009390019258301803, lr = 0.009426789411643322\n",
      "61/150, error=0.03521874906927248, lr = 0.009417362622231678\n",
      "62/150, error=0.031309612130346345, lr = 0.009407945259609446\n",
      "63/150, error=0.041987170769054526, lr = 0.009398537314349836\n",
      "64/150, error=0.047239376905060665, lr = 0.009389138777035486\n",
      "65/150, error=0.023406082612939406, lr = 0.009379749638258451\n",
      "66/150, error=0.03706076963292457, lr = 0.009370369888620193\n",
      "67/150, error=0.02782259011287726, lr = 0.009360999518731573\n",
      "68/150, error=0.007335316302174136, lr = 0.009351638519212842\n",
      "69/150, error=0.039537876909986745, lr = 0.009342286880693629\n",
      "70/150, error=0.035780327721731044, lr = 0.009332944593812936\n",
      "71/150, error=0.036444705803838684, lr = 0.009323611649219122\n",
      "72/150, error=0.02907338484669464, lr = 0.009314288037569902\n",
      "73/150, error=0.0032951527407725227, lr = 0.009304973749532333\n",
      "74/150, error=0.039101309381954635, lr = 0.0092956687757828\n",
      "75/150, error=0.060019033299712504, lr = 0.009286373107007018\n",
      "76/150, error=0.015023997677677642, lr = 0.00927708673390001\n",
      "77/150, error=0.06752525741828529, lr = 0.00926780964716611\n",
      "78/150, error=0.034052776488500726, lr = 0.009258541837518945\n",
      "79/150, error=0.021738286664014065, lr = 0.009249283295681426\n",
      "80/150, error=0.03075338412424632, lr = 0.009240034012385745\n",
      "81/150, error=0.04006168422939387, lr = 0.009230793978373359\n",
      "82/150, error=0.016657368014917472, lr = 0.009221563184394986\n",
      "83/150, error=0.02709547880313649, lr = 0.00921234162121059\n",
      "84/150, error=0.021693493084376292, lr = 0.00920312927958938\n",
      "85/150, error=0.009768041139470362, lr = 0.00919392615030979\n",
      "86/150, error=0.016167911128325742, lr = 0.00918473222415948\n",
      "87/150, error=0.0332788551240473, lr = 0.009175547491935322\n",
      "88/150, error=0.017956604773053362, lr = 0.009166371944443386\n",
      "89/150, error=0.019161939220152333, lr = 0.009157205572498942\n",
      "90/150, error=0.027223501912310127, lr = 0.009148048366926443\n",
      "91/150, error=0.03193849486050211, lr = 0.009138900318559516\n",
      "92/150, error=0.02256574616414976, lr = 0.009129761418240956\n",
      "93/150, error=0.024771925341631734, lr = 0.009120631656822715\n",
      "94/150, error=0.011742769098020783, lr = 0.009111511025165893\n",
      "95/150, error=0.0016692098889469554, lr = 0.009102399514140727\n",
      "96/150, error=0.033713909872076106, lr = 0.009093297114626586\n",
      "97/150, error=0.010604472709941686, lr = 0.00908420381751196\n",
      "98/150, error=0.025603974972160555, lr = 0.009075119613694447\n",
      "99/150, error=0.013756302409942243, lr = 0.009066044494080753\n",
      "100/150, error=0.019900362512369495, lr = 0.009056978449586672\n",
      "101/150, error=0.023806404986535124, lr = 0.009047921471137085\n",
      "102/150, error=0.019599307578693527, lr = 0.009038873549665948\n",
      "103/150, error=0.021241278713784752, lr = 0.009029834676116281\n",
      "104/150, error=0.01720274263356412, lr = 0.009020804841440164\n",
      "105/150, error=0.008686921539538156, lr = 0.009011784036598724\n",
      "106/150, error=0.011297458977581496, lr = 0.009002772252562125\n",
      "107/150, error=0.010853879028641147, lr = 0.008993769480309563\n",
      "108/150, error=0.013422401451114823, lr = 0.008984775710829253\n",
      "109/150, error=0.017778714514583505, lr = 0.008975790935118425\n",
      "110/150, error=0.029021416740382267, lr = 0.008966815144183305\n",
      "111/150, error=0.029386757633729846, lr = 0.008957848329039121\n",
      "112/150, error=0.0037318608984459887, lr = 0.008948890480710082\n",
      "113/150, error=0.027414037043339636, lr = 0.008939941590229372\n",
      "114/150, error=0.020310902056846894, lr = 0.008931001648639143\n",
      "115/150, error=0.03198985362946614, lr = 0.008922070646990504\n",
      "116/150, error=0.026968448261481443, lr = 0.008913148576343514\n",
      "117/150, error=0.02393347747641241, lr = 0.00890423542776717\n",
      "118/150, error=0.029977398879567577, lr = 0.008895331192339404\n",
      "119/150, error=0.007048531974102514, lr = 0.008886435861147065\n",
      "120/150, error=0.030831310522925485, lr = 0.008877549425285918\n",
      "121/150, error=0.005812837007680535, lr = 0.008868671875860632\n",
      "122/150, error=0.0006598465601540668, lr = 0.008859803203984771\n",
      "123/150, error=0.019674730364824894, lr = 0.008850943400780787\n",
      "124/150, error=0.023461802775888323, lr = 0.008842092457380006\n",
      "125/150, error=0.055523230320222265, lr = 0.008833250364922626\n",
      "126/150, error=0.015492738791538858, lr = 0.008824417114557703\n",
      "127/150, error=0.005133326668450399, lr = 0.008815592697443145\n",
      "128/150, error=0.00010301941356760402, lr = 0.008806777104745702\n",
      "129/150, error=0.04843355361321356, lr = 0.008797970327640956\n",
      "130/150, error=0.0466775685622839, lr = 0.008789172357313316\n",
      "131/150, error=0.01187241296810265, lr = 0.008780383184956003\n",
      "132/150, error=0.037047522054922524, lr = 0.008771602801771047\n",
      "133/150, error=0.012525778316501908, lr = 0.008762831198969276\n",
      "134/150, error=0.02140126226833184, lr = 0.008754068367770306\n",
      "135/150, error=0.05921665895565076, lr = 0.008745314299402536\n",
      "136/150, error=0.019804114460688922, lr = 0.008736568985103135\n",
      "137/150, error=0.023590843576316328, lr = 0.008727832416118032\n",
      "138/150, error=0.020239651356871183, lr = 0.008719104583701913\n",
      "139/150, error=0.01858884338678446, lr = 0.008710385479118211\n",
      "140/150, error=0.027042563855939897, lr = 0.008701675093639094\n",
      "141/150, error=0.010564171941978083, lr = 0.008692973418545455\n",
      "142/150, error=0.010520753145641484, lr = 0.00868428044512691\n",
      "143/150, error=0.0003920779130475125, lr = 0.008675596164681783\n",
      "144/150, error=0.020603535369376536, lr = 0.008666920568517101\n",
      "145/150, error=0.026194851166110342, lr = 0.008658253647948585\n",
      "146/150, error=0.013801969814518247, lr = 0.008649595394300637\n",
      "147/150, error=0.0064407916039065085, lr = 0.008640945798906336\n",
      "148/150, error=0.017464409667079912, lr = 0.008632304853107429\n",
      "149/150, error=0.012114852081811775, lr = 0.008623672548254321\n",
      "150/150, error=0.008054762138563267, lr = 0.008615048875706067\n",
      "Network 1 test accuracy: 0.9527\n",
      "Network 1: 0.9527\n"
     ]
    }
   ],
   "source": [
    "# train\n",
    "all_errors = []\n",
    "all_test_scores = []\n",
    "totals = []\n",
    "for i, network in enumerate(networks):\n",
    "    print(f\"Network {i+1}:\")\n",
    "    errors, test_scores = train(\n",
    "        network,\n",
    "        categorical_cross_entropy,\n",
    "        categorical_cross_entropy_prime,\n",
    "        train_images,\n",
    "        train_labels,\n",
    "        test_images,\n",
    "        test_labels,\n",
    "        epochs=150 * (i + 1),\n",
    "        learning_rate=0.01,\n",
    "        lr_decay=0.999,  ##[0.985, 0.992, 0.995][i],\n",
    "        batch_size=128,   # 128\n",
    "        test_epochs=5\n",
    "    )\n",
    "\n",
    "    all_errors.append(errors)\n",
    "    all_test_scores.append(test_scores)\n",
    "\n",
    "    # test\n",
    "    correct = 0\n",
    "    for x, y in zip(test_images, test_labels):\n",
    "        output = predict(network, x)\n",
    "        correct += np.argmax(output) == np.argmax(y)\n",
    "\n",
    "    totals.append(correct / len(test_images))\n",
    "\n",
    "    print(f\"Network {i+1} test accuracy: {correct / len(test_images)}\")\n",
    "\n",
    "for i, network in enumerate(networks):\n",
    "    print(f\"Network {i+1}: {totals[i]}\")"
   ]
  },
  {
   "cell_type": "code",
   "execution_count": 14,
   "metadata": {},
   "outputs": [
    {
     "data": {
      "text/plain": [
       "<matplotlib.legend.Legend at 0x17b453afdf0>"
      ]
     },
     "execution_count": 14,
     "metadata": {},
     "output_type": "execute_result"
    },
    {
     "data": {
      "image/png": "[encoded data removed]",
      "text/plain": [
       "<Figure size 640x480 with 1 Axes>"
      ]
     },
     "metadata": {},
     "output_type": "display_data"
    }
   ],
   "source": [
    "import matplotlib.pyplot as plt\n",
    "\n",
    "for i, errors in enumerate(all_errors):\n",
    "    plt.plot(errors, label=f\"Network {i+1}\")\n",
    "\n",
    "plt.xlabel(\"Epochs\")\n",
    "plt.ylabel(\"Error\")\n",
    "plt.legend()"
   ]
  },
  {
   "cell_type": "code",
   "execution_count": 15,
   "metadata": {},
   "outputs": [
    {
     "data": {
      "text/plain": [
       "<matplotlib.legend.Legend at 0x17b4c826fd0>"
      ]
     },
     "execution_count": 15,
     "metadata": {},
     "output_type": "execute_result"
    },
    {
     "data": {
      "image/png": "[encoded data removed]",
      "text/plain": [
       "<Figure size 640x480 with 1 Axes>"
      ]
     },
     "metadata": {},
     "output_type": "display_data"
    }
   ],
   "source": [
    "for i, test_scores in enumerate(all_test_scores):\n",
    "    plt.plot(np.arange(0, len(test_scores)), test_scores, label=f\"Network {i+1} test\")\n",
    "\n",
    "plt.xlabel(\"Epochs\")\n",
    "plt.ylabel(\"Error\")\n",
    "plt.legend()"
   ]
  },
  {
   "cell_type": "code",
   "execution_count": 66,
   "metadata": {},
   "outputs": [
    {
     "name": "stdout",
     "output_type": "stream",
     "text": [
      "Number 0: 974 / 980\n",
      "Number 1: 1119 / 1135\n",
      "Number 2: 1006 / 1032\n",
      "Number 3: 995 / 1010\n",
      "Number 4: 969 / 982\n",
      "Number 5: 878 / 892\n",
      "Number 6: 929 / 958\n",
      "Number 7: 1000 / 1028\n",
      "Number 8: 943 / 974\n",
      "Number 9: 977 / 1009\n"
     ]
    }
   ],
   "source": [
    "network = network_3\n",
    "\n",
    "# test which images are labelled correctly\n",
    "correct = {0: [], 1: [], 2: [], 3: [], 4: [], 5: [], 6: [], 7: [], 8: [], 9: []}\n",
    "wrong_images = []\n",
    "wrong_predictions = []\n",
    "for x, y in zip(test_images, test_labels):\n",
    "    output = predict(network, x)\n",
    "    correct[np.argmax(y)].append(np.argmax(output) == np.argmax(y))\n",
    "    if np.argmax(output) != np.argmax(y):\n",
    "        wrong_images.append(x)\n",
    "        wrong_predictions.append(output)\n",
    "\n",
    "for i in range(10):\n",
    "    print(f\"Number {i}: {sum(correct[i])} / {len(correct[i])}\")"
   ]
  },
  {
   "cell_type": "code",
   "execution_count": 67,
   "metadata": {},
   "outputs": [
    {
     "name": "stdout",
     "output_type": "stream",
     "text": [
      "Number 0: 0.9938775510204082\n",
      "Number 1: 0.9859030837004406\n",
      "Number 2: 0.9748062015503876\n",
      "Number 3: 0.9851485148514851\n",
      "Number 4: 0.9867617107942973\n",
      "Number 5: 0.984304932735426\n",
      "Number 6: 0.9697286012526096\n",
      "Number 7: 0.9727626459143969\n",
      "Number 8: 0.9681724845995893\n",
      "Number 9: 0.9682854311199207\n"
     ]
    }
   ],
   "source": [
    "for i in range(10):\n",
    "    print(f\"Number {i}: {sum(correct[i]) / len(correct[i])}\")"
   ]
  }
 ],
 "metadata": {
  "kernelspec": {
   "display_name": "tf",
   "language": "python",
   "name": "python3"
  },
  "language_info": {
   "codemirror_mode": {
    "name": "ipython",
    "version": 3
   },
   "file_extension": ".py",
   "mimetype": "text/x-python",
   "name": "python",
   "nbconvert_exporter": "python",
   "pygments_lexer": "ipython3",
   "version": "3.9.16"
  }
 },
 "nbformat": 4,
 "nbformat_minor": 2
}
