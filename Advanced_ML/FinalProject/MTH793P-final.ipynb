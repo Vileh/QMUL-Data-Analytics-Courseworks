{
 "cells": [
  {
   "cell_type": "code",
   "execution_count": null,
   "id": "2791e4ea",
   "metadata": {},
   "outputs": [],
   "source": []
  },
  {
   "cell_type": "markdown",
   "id": "74e9699f",
   "metadata": {
    "deletable": false,
    "editable": false,
    "nbgrader": {
     "cell_type": "markdown",
     "checksum": "21c827c60a9af3ae9c934d00bc67d957",
     "grade": false,
     "grade_id": "cell-d8bea8299bc58558",
     "locked": true,
     "schema_version": 3,
     "solution": false,
     "task": false
    }
   },
   "source": [
    "# MTH793P: Advanced Machine Learning, Semester B, 2023/2024"
   ]
  },
  {
   "cell_type": "markdown",
   "id": "e9e455ec-2ffa-4248-bb69-551c8cac8d86",
   "metadata": {
    "deletable": false,
    "editable": false,
    "nbgrader": {
     "cell_type": "markdown",
     "checksum": "2b8beff68cfaf4344407f0498d516a69",
     "grade": false,
     "grade_id": "cell-ff04558afce026e9",
     "locked": true,
     "schema_version": 3,
     "solution": false,
     "task": false
    }
   },
   "source": [
    "---"
   ]
  },
  {
   "cell_type": "markdown",
   "id": "5099f1d0",
   "metadata": {
    "deletable": false,
    "editable": false,
    "nbgrader": {
     "cell_type": "markdown",
     "checksum": "5f9cd73a50d22a02edfe571c5b8a81ec",
     "grade": false,
     "grade_id": "cell-63c22048cc83bc1d",
     "locked": true,
     "schema_version": 3,
     "solution": false,
     "task": false
    }
   },
   "source": [
    "**Full Name:**"
   ]
  },
  {
   "cell_type": "markdown",
   "id": "fd60a575",
   "metadata": {
    "deletable": false,
    "nbgrader": {
     "cell_type": "markdown",
     "checksum": "50870725954e6bf57141ede724e4c1f4",
     "grade": true,
     "grade_id": "cell-06aa6f3b13940e27",
     "locked": false,
     "points": 0,
     "schema_version": 3,
     "solution": true,
     "task": false
    }
   },
   "source": [
    "YOUR ANSWER HERE"
   ]
  },
  {
   "cell_type": "markdown",
   "id": "288f88a4",
   "metadata": {
    "deletable": false,
    "editable": false,
    "nbgrader": {
     "cell_type": "markdown",
     "checksum": "73edeca0e1050eb8943b8ec11afff10f",
     "grade": false,
     "grade_id": "cell-48a3239dc04122bb",
     "locked": true,
     "schema_version": 3,
     "solution": false,
     "task": false
    }
   },
   "source": [
    "**Student ID:**\n"
   ]
  },
  {
   "cell_type": "markdown",
   "id": "fee3ed01",
   "metadata": {
    "deletable": false,
    "nbgrader": {
     "cell_type": "markdown",
     "checksum": "3024868e2c85b714437e1f104ce8f24a",
     "grade": true,
     "grade_id": "cell-2013f8791d3f4700",
     "locked": false,
     "points": 0,
     "schema_version": 3,
     "solution": true,
     "task": false
    }
   },
   "source": [
    "YOUR ANSWER HERE"
   ]
  },
  {
   "cell_type": "markdown",
   "id": "b425e805-b6d5-4272-9a92-c94121fe1d4d",
   "metadata": {
    "deletable": false,
    "editable": false,
    "nbgrader": {
     "cell_type": "markdown",
     "checksum": "4f8503e03d812bbc84aae3c663bc3a7f",
     "grade": false,
     "grade_id": "cell-b56d927637d43e18",
     "locked": true,
     "schema_version": 3,
     "solution": false,
     "task": false
    }
   },
   "source": [
    "---"
   ]
  },
  {
   "cell_type": "markdown",
   "id": "88105a7a",
   "metadata": {
    "deletable": false,
    "editable": false,
    "nbgrader": {
     "cell_type": "markdown",
     "checksum": "5bf69338580bd4569d3c7c05764bb42f",
     "grade": false,
     "grade_id": "cell-a9b3e98b14ecf483",
     "locked": true,
     "schema_version": 3,
     "solution": false,
     "task": false
    }
   },
   "source": [
    "### General instructions\n",
    "\n",
    "First, enter your **Full Name** and **Student ID** in the fields above."
   ]
  },
  {
   "cell_type": "markdown",
   "id": "fc3f2c9b-df03-41cc-97e5-0b9377d22ebd",
   "metadata": {
    "deletable": false,
    "editable": false,
    "nbgrader": {
     "cell_type": "markdown",
     "checksum": "6fb5a26195523adacc92bd3c1c1b8a88",
     "grade": false,
     "grade_id": "cell-31cf8b3f9128a871",
     "locked": true,
     "schema_version": 3,
     "solution": false,
     "task": false
    }
   },
   "source": [
    "**Read the following information carefully before turning to the actual exercises.**\n",
    "\n",
    "This final project assignment is scored on a scale of 100 marks and will contribute **60% of your final mark** for this module.\n",
    "\n",
    "This project is due by **Friday, 31 May 2024, 17:00 GMT**.\n",
    "Submissions received after this deadline will be treated in accordance with the College Regulations for late submissions: Up to seven days after the deadline, late submissions will incur a penalty of 5% of the total marks per 24 hours (or a fraction thereof). For example, a submission received on 1/6/2024 at 18:00 GMT (25 hours after the deadline) will result in a deduction of 10 marks. Any submission received more than 168 hours after the deadline will receive zero marks.\n",
    "\n",
    "The lecturer will be available to answer reasonable questions about this assignment until **Friday, 24 May 2024, 17:00 GMT**. You can contact the lecturer by email ([o.bobrowski@qmul.ac.uk](mailto:o.bobrowski@qmul.ac.uk)).\n",
    "\n",
    "You must use this Jupyter Notebook to answer all exercises. You are not allowed to remove any cells from this notebook. You can add Markdown or code cells as needed.\n",
    "\n",
    "You must submit this Jupyter Notebook through QMPlus, using the submission system for this assignment. You cannot submit your attempt in any other way. Files sent by other means, including email, will not be considered.\n",
    "\n",
    "You cannot submit any additional files apart from this Jupyter Notebook. The ZIP file you downloaded contains various auxiliary files that you will need for the exercises. However, there is no need to upload these auxiliary files. The original versions of these files will be merged into your submission automatically."
   ]
  },
  {
   "cell_type": "markdown",
   "id": "a3158113",
   "metadata": {
    "deletable": false,
    "editable": false,
    "nbgrader": {
     "cell_type": "markdown",
     "checksum": "4922bf6f753c7b8faedde3abbed2ba98",
     "grade": false,
     "grade_id": "cell-81206bf2cf8da7a1",
     "locked": true,
     "schema_version": 3,
     "solution": false,
     "task": false
    }
   },
   "source": [
    "\n",
    "For **Markdown** exercises, **replace all occurrences of** `YOUR ANSWER HERE`  **by valid Markdown** to answer the question.\n",
    "\n",
    "For **coding** exercises,\n",
    "**replace all occurrences of**\n",
    "```python\n",
    "### YOUR CODE HERE\n",
    "raise NotImplementedError()\n",
    "```\n",
    "**by valid Python code** to solve the problem.\n",
    "In your solution, you can **only use** built-in Python functions and **functions from modules were imported for you in this template**.\n",
    "Importing other modules is not allowed and will result in withdrawal of the corresponding marks.\n",
    "If your code produces an error and you cannot fix it, write a comment to show that you are aware of the problem and indicate possible causes if you can.\n",
    "You can get **partial credit**, so even if you cannot solve an exercise completely, try to answer as much as you can.\n",
    "\n",
    "\n",
    "Finally, before you turn this project in, make sure everything runs as expected. First, **restart the kernel** (in the menubar, select Kernel$\\rightarrow$Restart Kernel) and then **run all cells** (in the menubar, select Cell$\\rightarrow$Run All (Jupyter Notebook Version 6) or Run$\\rightarrow$Run All Cells (Jupyter Notebook Version 7)). Please **do not change the file name** when you upload your Notebook to QMPlus."
   ]
  },
  {
   "cell_type": "markdown",
   "id": "cfca2487",
   "metadata": {
    "deletable": false,
    "editable": false,
    "nbgrader": {
     "cell_type": "markdown",
     "checksum": "2333f9e8abb84accec457bc4bad67a3a",
     "grade": false,
     "grade_id": "cell-18ed9848fccca33f",
     "locked": true,
     "schema_version": 3,
     "solution": false,
     "task": false
    }
   },
   "source": [
    "<div class=\"alert alert-block alert-warning\">\n",
    "    Please answer all the questions below by writing your own Python code. Using or copy-pasting pre-existing code from any source is not permitted, and will be considered as <b>plagiarism</b> and addressed according to College Regulations. You are not allowed to collaborate with other students or ask for help from any other source, including, but not limited to, online forums or ChatGPT (or any other AI agent). By submitting your Notebook via QMPlus, you confirm that you have followed these rules and that the submitted code is your own work. Upon violation, you will fail this test with zero marks.</div>"
   ]
  },
  {
   "cell_type": "markdown",
   "id": "a5cb1359-dc8d-45d2-b6c5-13058196f8d1",
   "metadata": {
    "deletable": false,
    "editable": false,
    "nbgrader": {
     "cell_type": "markdown",
     "checksum": "337b11dfb55bda281fddf41e09addf3a",
     "grade": false,
     "grade_id": "cell-852de7f451e8a91c",
     "locked": true,
     "schema_version": 3,
     "solution": false,
     "task": false
    }
   },
   "source": [
    "---"
   ]
  },
  {
   "cell_type": "markdown",
   "id": "a694f45f",
   "metadata": {
    "deletable": false,
    "editable": false,
    "nbgrader": {
     "cell_type": "markdown",
     "checksum": "42fce8e5ca3cdc34456f74e20f275979",
     "grade": false,
     "grade_id": "cell-d05917fe13b84c6b",
     "locked": true,
     "schema_version": 3,
     "solution": false,
     "task": false
    }
   },
   "source": [
    "### Coding style\n",
    "\n",
    "#### Comments\n",
    "\n",
    "Comments are an essential part of programming.\n",
    "Use appropriate comments to explain the reasoning behind your code.\n",
    "\n",
    "#### Variables & Functions\n",
    "\n",
    "Use the variable and function names specified (**<font color=red>in red</font>**) in each exercise when writing your code. If you use other names, the testing of your code might fail, resulting in a reduced mark. For any additional variables/functions you define, choose meaningful, concise names.\n",
    "\n",
    "\n",
    "It is perfectly fine if you define extra auxiliary functions to carry out a task. This is to say, even if the exercise only asks you to write a function `example_function`, you are free to add other functions like `example_function_aux`, `some_other_function`, ... and use them in your implementation of `example_function`.\n",
    "Choose meaningful names for all auxiliary functions, too."
   ]
  },
  {
   "cell_type": "markdown",
   "id": "008a7098-75b3-444e-bbc4-8ba7c4b1ad36",
   "metadata": {
    "deletable": false,
    "editable": false,
    "nbgrader": {
     "cell_type": "markdown",
     "checksum": "099e543aa6df6d744a4e81d35e207412",
     "grade": false,
     "grade_id": "cell-f3c7d478f0cf284d",
     "locked": true,
     "schema_version": 3,
     "solution": false,
     "task": false
    }
   },
   "source": [
    "---"
   ]
  },
  {
   "cell_type": "markdown",
   "id": "f403885e",
   "metadata": {
    "deletable": false,
    "editable": false,
    "nbgrader": {
     "cell_type": "markdown",
     "checksum": "04e270f615e8fcf86d28497adb1bb743",
     "grade": false,
     "grade_id": "cell-45e3e575be76da62",
     "locked": true,
     "schema_version": 3,
     "solution": false,
     "task": false
    }
   },
   "source": [
    "### Assessment criteria\n",
    "\n",
    "The first thing we will do to evaluate your submission is to clear all outputs and run the entire notebook from the beginning to the end. It is your responsibility to ensure that the code produces **no errors**. We will not try to fix any errors when assessing your work as you have several weeks to develop this project. Instead, you will receive **zero marks for any exercises where the code cell raises an error**. If you run into an error and do not know how to fix it, comment out the critical line of code and any subsequent ones that depend on it. Add a remark indicating that you are aware of the problem and potential reasons.\n",
    "\n",
    "If you do not know how to implement a certain operation in Python,\n",
    "add a comment and explain in plain English (and in sufficient detail) what you would like to do.\n",
    "You may receive partial credit for expedient ideas formulated in this way.\n",
    "\n",
    "**10% of the project mark** will be awarded for **coding style**. This includes the use of appropriate variable names, suitable comments to explain complex sequences of operations, and general organisation.\n",
    "This is to say, even if your code is fully functional and solves the exercise, you may lose marks if the reasoning is not explained properly, or the code is not well-organised.\n",
    "\n",
    "<div class=\"alert alert-block alert-danger\">\n",
    "\n",
    "**Running time:** You will be asked to code and use several ML methods that we studied in the lectures. If not implemented correctly, or used with the wrong parameters, these can take a long time to run. When you submit your notebook, you should make sure that:\n",
    "* No single box in this notebook takes **longer than 30 seconds** to run on your personal computer.\n",
    "* The entire notebook runs from beginning to end in **less than 3 minutes** on your personal computer.\n",
    "\n",
    "You should make sure that your submitted notebook follows these limitations. Failing to do so will amount to a penalty of **20 points**. <br> \n",
    "However, if prior to submission you realise this is a potential issue - you should **comment out** the boxes that slow your code down,  add an explanation as to what you think is wrong with your code, and suggest ways to improve it. You will get **partial credit** for doing so. In this case, and only in this case, we ask that you also run your entire notebook (before commenting the slow sections) on your computer prior to submission. Export the complete notebook as a **PDF**, and attach the PDF to your submission, together with the notebook.\n",
    "</div>"
   ]
  },
  {
   "cell_type": "markdown",
   "id": "27d9c28c",
   "metadata": {
    "deletable": false,
    "editable": false,
    "nbgrader": {
     "cell_type": "markdown",
     "checksum": "7fb5aeb874745468a6590427fe707d9f",
     "grade": false,
     "grade_id": "cell-eaf22f15cce9a637",
     "locked": true,
     "schema_version": 3,
     "solution": false,
     "task": false
    }
   },
   "source": [
    "---"
   ]
  },
  {
   "cell_type": "markdown",
   "id": "b9f8e95c",
   "metadata": {
    "deletable": false,
    "editable": false,
    "nbgrader": {
     "cell_type": "markdown",
     "checksum": "508dd23c31eacd0f1ea68e36c7011e14",
     "grade": false,
     "grade_id": "cell-9d552b47f75c315a",
     "locked": true,
     "schema_version": 3,
     "solution": false,
     "task": false
    }
   },
   "source": [
    "### Admitted features and imports\n",
    "\n",
    "You are free to use any Python concepts or features that are built into the language. Furthermore, you can use any of the packages imported below. \n",
    "**You must not import any additional modules in any of the code you write.**"
   ]
  },
  {
   "cell_type": "code",
   "execution_count": null,
   "id": "ea384a81",
   "metadata": {
    "deletable": false,
    "editable": false,
    "nbgrader": {
     "cell_type": "code",
     "checksum": "7df84238364563a49cf1a67b3f72d11a",
     "grade": false,
     "grade_id": "cell-24f5e6857325548a",
     "locked": true,
     "schema_version": 3,
     "solution": false,
     "task": false
    }
   },
   "outputs": [],
   "source": [
    "import numpy as np\n",
    "from numpy.linalg import svd\n",
    "\n",
    "import matplotlib.pyplot as plt\n",
    "\n",
    "from skimage import data\n",
    "from skimage import img_as_float\n",
    "from sklearn.cluster import KMeans\n",
    "from sklearn.preprocessing import StandardScaler\n",
    "\n",
    "from numpy.testing import assert_equal\n",
    "from numpy.testing import assert_array_equal\n",
    "from numpy.testing import assert_almost_equal\n",
    "from numpy.testing import assert_array_almost_equal"
   ]
  },
  {
   "cell_type": "markdown",
   "id": "3180149a",
   "metadata": {
    "deletable": false,
    "editable": false,
    "nbgrader": {
     "cell_type": "markdown",
     "checksum": "e4f212725c1c4c355b275a9d839a9688",
     "grade": false,
     "grade_id": "cell-5bafe74271f3647c",
     "locked": true,
     "schema_version": 3,
     "solution": false,
     "task": false
    }
   },
   "source": [
    "---"
   ]
  },
  {
   "cell_type": "markdown",
   "id": "c30f5b5f",
   "metadata": {
    "deletable": false,
    "editable": false,
    "nbgrader": {
     "cell_type": "markdown",
     "checksum": "38d080e50d1881a088c80e0e72c3d80b",
     "grade": false,
     "grade_id": "cell-21927a6f6ebba8e6",
     "locked": true,
     "schema_version": 3,
     "solution": false,
     "task": false
    }
   },
   "source": [
    "# Part I - Image Compression with K-Means (20 points)"
   ]
  },
  {
   "cell_type": "markdown",
   "id": "ae51bbdc-2792-4940-b014-2ad8f25a6c45",
   "metadata": {
    "deletable": false,
    "editable": false,
    "nbgrader": {
     "cell_type": "markdown",
     "checksum": "bdf04b2e167b2bd90e838ab452fe14c2",
     "grade": false,
     "grade_id": "cell-61ea75a448487def",
     "locked": true,
     "schema_version": 3,
     "solution": false,
     "task": false
    }
   },
   "source": [
    "In this part we will explore the compression of colour images using the K-Means algorithm.<br>\n",
    "A 24-bit RGB image uses $256 = 2^8$ possible values per colour-channel (Red/Green/Blue),\n",
    "so that, each pixel in the image requires $3\\times 8 = 24$ bits of storage. <br>\n",
    "We would like to approximate such an image with an $n$-bit RGB image, where $n < 24$.\n",
    "\n",
    "\n",
    "How do we choose the $2^n$ colour-intensity values, so that the image looks similar to the original image? <br>Your task is to show that this can be done with k-means clustering. \n",
    "\n",
    "For this part, use the k-means implementation in [**sklearn.cluster.KMeans**](http://scikit-learn.org/stable/modules/generated/sklearn.cluster.KMeans.html) (see documentation and examples in the link).\n",
    "\n",
    "---"
   ]
  },
  {
   "cell_type": "markdown",
   "id": "a976e284-7633-4201-817e-c79dda9618f3",
   "metadata": {
    "deletable": false,
    "editable": false,
    "nbgrader": {
     "cell_type": "markdown",
     "checksum": "9da90b4deabea8b302a0c298e80186b9",
     "grade": false,
     "grade_id": "cell-fa4570c44138fa2c",
     "locked": true,
     "schema_version": 3,
     "solution": false,
     "task": false
    }
   },
   "source": [
    "The following box loads an image from the **skimage** package and stores it in the variable **<font color=red>image</font>**.<br>\n",
    "Choose any of the images by setting/removing the comment."
   ]
  },
  {
   "cell_type": "code",
   "execution_count": null,
   "id": "216b25f1-c687-4ba3-8987-e4533cc64fdd",
   "metadata": {},
   "outputs": [],
   "source": [
    "### IMAGE SELECTION ###\n",
    "# image = data.astronaut()\n",
    "image = data.rocket()\n",
    "# image = data.colorwheel()"
   ]
  },
  {
   "cell_type": "code",
   "execution_count": null,
   "id": "e9621e39-c067-489f-a17f-ac816b92b349",
   "metadata": {
    "deletable": false,
    "editable": false,
    "nbgrader": {
     "cell_type": "code",
     "checksum": "7e643300d5fd5576c159cf4e396cdec3",
     "grade": false,
     "grade_id": "cell-f1b28c1444176df4",
     "locked": true,
     "schema_version": 3,
     "solution": false,
     "task": false
    }
   },
   "outputs": [],
   "source": [
    "# Converting the values to float, and presenting the image.\n",
    "image = img_as_float(image)\n",
    "plt.imshow(image)\n",
    "plt.axis('off')\n",
    "plt.tight_layout;"
   ]
  },
  {
   "cell_type": "markdown",
   "id": "336b0147-49a0-46eb-bcf5-b7aa6293b832",
   "metadata": {
    "deletable": false,
    "editable": false,
    "nbgrader": {
     "cell_type": "markdown",
     "checksum": "1fd06739c9152196447a28f21beb86e2",
     "grade": false,
     "grade_id": "cell-7f2d33a5c7b590b0",
     "locked": true,
     "schema_version": 3,
     "solution": false,
     "task": false
    }
   },
   "source": [
    "Use **KMeans** (imported from sklearn.cluster) to apply the K-means clustering algorithm to the image you loaded.<br>\n",
    "Set the number of clusters to be $2^\\text{nbits}$, where **nbits** is number of bits used to store each pixel. <br>\n",
    "Repeat the process for $\\text{nbits} = 1,2,6$. Note that each image is a matrix of 480x480 RGB values, which you have to turn into a vector of 230,400 values.\n",
    "<br>\n",
    "The results should be stored as:<br>\n",
    "- **<font color='red'>centers_\\<i\\> </font>** - an array containing the centers of the clusters. \n",
    "- **<font color='red'>labels_\\<i\\></font>**  - an array containing the labels for each pixel.<br>\n",
    "    \n",
    "    Where **<font color='red'>\\<i\\></font>** should be replaced with **<font color='red'>1,2,6</font>**.\n",
    "    \n",
    "    \n",
    "**NOTE:** When using KMeans - use the default input parameters (except for number of clusters). "
   ]
  },
  {
   "cell_type": "code",
   "execution_count": null,
   "id": "ca649600-b99f-4dee-8290-d7d9b6721ab3",
   "metadata": {
    "deletable": false,
    "editable": false,
    "nbgrader": {
     "cell_type": "code",
     "checksum": "05cd023e7f6691d5ad6f8d257324019e",
     "grade": true,
     "grade_id": "cell-3d7ac725682e7b05",
     "locked": true,
     "points": 0,
     "schema_version": 3,
     "solution": false,
     "task": false
    }
   },
   "outputs": [],
   "source": [
    "### DO NOT REMOVE/EDIT THIS CELL ###"
   ]
  },
  {
   "cell_type": "code",
   "execution_count": null,
   "id": "b7a6b83a-e0c8-4596-a7d1-32e6ccabc50b",
   "metadata": {
    "deletable": false,
    "nbgrader": {
     "cell_type": "code",
     "checksum": "ab09c6f6fdcec637b1d6cb0cc26fe951",
     "grade": false,
     "grade_id": "cell-e3901cf86709f653",
     "locked": false,
     "schema_version": 3,
     "solution": true,
     "task": false
    }
   },
   "outputs": [],
   "source": [
    "# YOUR CODE HERE\n",
    "raise NotImplementedError()"
   ]
  },
  {
   "cell_type": "code",
   "execution_count": null,
   "id": "f6eaa91d-1ccc-49c1-94e2-0e34d946417e",
   "metadata": {
    "deletable": false,
    "editable": false,
    "nbgrader": {
     "cell_type": "code",
     "checksum": "8ce57d6da7ecdfc36647fb58de8e545e",
     "grade": true,
     "grade_id": "cell-11b0fa871ac481c5",
     "locked": true,
     "points": 12,
     "schema_version": 3,
     "solution": false,
     "task": false
    }
   },
   "outputs": [],
   "source": [
    "### DO NOT REMOVE/EDIT THIS CELL ###"
   ]
  },
  {
   "cell_type": "markdown",
   "id": "b645e3f6-a544-4af7-9e4c-4e8f22ceb5e1",
   "metadata": {
    "deletable": false,
    "editable": false,
    "nbgrader": {
     "cell_type": "markdown",
     "checksum": "42baabaa975daa4db85b9efb2f145f4a",
     "grade": false,
     "grade_id": "cell-c538d7c12983bb79",
     "locked": true,
     "schema_version": 3,
     "solution": false,
     "task": false
    }
   },
   "source": [
    "Create a new image, where each pixel value is replaced by its nearest K-means center.<br>\n",
    "Make sure the values you store are **between 0 and 1** (you can use **np.clip** for that).\n",
    "\n",
    "Finally, before we can show the results, we need to convert the vector back to an image matrix. <br>\n",
    "Store the final result in a variable named **<font color='red'>image_comp_\\<i\\></font>**, where you should replace **<font color='red'>\\<i\\></font>** with  **<font color='red'>1,2,6</font>**."
   ]
  },
  {
   "cell_type": "code",
   "execution_count": null,
   "id": "77949923-69f3-4c63-abd7-a2e1b1628431",
   "metadata": {
    "deletable": false,
    "nbgrader": {
     "cell_type": "code",
     "checksum": "b67b3ea592a7e1116365d208b6b089cd",
     "grade": false,
     "grade_id": "cell-d0680929929776f8",
     "locked": false,
     "schema_version": 3,
     "solution": true,
     "task": false
    }
   },
   "outputs": [],
   "source": [
    "# YOUR CODE HERE\n",
    "raise NotImplementedError()"
   ]
  },
  {
   "cell_type": "code",
   "execution_count": null,
   "id": "40eb6bc1-bfd0-468a-8ebd-77146dea6691",
   "metadata": {
    "deletable": false,
    "editable": false,
    "nbgrader": {
     "cell_type": "code",
     "checksum": "2139db44d5c047c1f8d50242248de8ee",
     "grade": true,
     "grade_id": "cell-a35aa487c7fdb7f7",
     "locked": true,
     "points": 5,
     "schema_version": 3,
     "solution": false,
     "task": false
    }
   },
   "outputs": [],
   "source": [
    "### DO NOT REMOVE THIS CELL ###"
   ]
  },
  {
   "cell_type": "markdown",
   "id": "5bddd64d-3c2e-409b-8d42-6d807fddab12",
   "metadata": {
    "deletable": false,
    "editable": false,
    "nbgrader": {
     "cell_type": "markdown",
     "checksum": "fee4c565ed6eb41b6a6c44001029a5b4",
     "grade": false,
     "grade_id": "cell-6fde7bd57be44738",
     "locked": true,
     "schema_version": 3,
     "solution": false,
     "task": false
    }
   },
   "source": [
    "Visualise your results. Are they good?"
   ]
  },
  {
   "cell_type": "code",
   "execution_count": null,
   "id": "4ea40cc3-810b-49b0-a7a8-d6a2e9f53d6e",
   "metadata": {
    "deletable": false,
    "editable": false,
    "nbgrader": {
     "cell_type": "code",
     "checksum": "9de0f7699fb89c9935755ebb32b12cd7",
     "grade": false,
     "grade_id": "cell-d2fcf990361b5003",
     "locked": true,
     "schema_version": 3,
     "solution": false,
     "task": false
    }
   },
   "outputs": [],
   "source": [
    "# Plotting the three results.\n",
    "plt.figure(figsize=(15, 5))\n",
    "plt.subplot(1, 3, 1)\n",
    "plt.imshow(image_comp_1)\n",
    "plt.axis('off')\n",
    "plt.title('1 bit')\n",
    "\n",
    "plt.subplot(1, 3, 2)\n",
    "plt.imshow(image_comp_2)  \n",
    "plt.axis('off')\n",
    "plt.title('2 bit')\n",
    "\n",
    "plt.subplot(1, 3, 3)\n",
    "plt.imshow(image_comp_6)  \n",
    "plt.axis('off')\n",
    "plt.title('6 bit')"
   ]
  },
  {
   "cell_type": "markdown",
   "id": "e80e1fe8-7153-45fa-8c66-5d30829ef013",
   "metadata": {
    "deletable": false,
    "editable": false,
    "nbgrader": {
     "cell_type": "markdown",
     "checksum": "dfbe5991034c4109e2fbb08db8a61ba3",
     "grade": false,
     "grade_id": "cell-0538bb058d93e0d7",
     "locked": true,
     "schema_version": 3,
     "solution": false,
     "task": false
    }
   },
   "source": [
    "\n",
    "Repeat this experiment for all the images in the block marked as **### IMAGE SELECTION ###**.<br>\n",
    "To select a new image, simply comment out the current selection, and remove the comment from the image you want to check. <br>\n",
    "\n",
    "The output for **one** of the images is noticalby inferior compared to the others.\n",
    "In the next box, write down which image is has the worst output, and explain in words why this happens. After you checked all the images, leave one of them selected, you can choose any of the images."
   ]
  },
  {
   "cell_type": "markdown",
   "id": "55dd69e6-0356-4b6a-9302-84618a925b4f",
   "metadata": {
    "deletable": false,
    "nbgrader": {
     "cell_type": "markdown",
     "checksum": "943efb38f08389301df63dfd573f6c0a",
     "grade": true,
     "grade_id": "cell-668f426116be68ef",
     "locked": false,
     "points": 3,
     "schema_version": 3,
     "solution": true,
     "task": false
    }
   },
   "source": [
    "YOUR ANSWER HERE"
   ]
  },
  {
   "cell_type": "markdown",
   "id": "9f1a0abc-180a-4d57-8193-fa9260b74bb8",
   "metadata": {
    "deletable": false,
    "editable": false,
    "nbgrader": {
     "cell_type": "markdown",
     "checksum": "d38041febff08aa5a63c9dd3d72d0adc",
     "grade": false,
     "grade_id": "cell-5cff11545be26e81",
     "locked": true,
     "schema_version": 3,
     "solution": false,
     "task": false
    }
   },
   "source": [
    "---"
   ]
  },
  {
   "cell_type": "markdown",
   "id": "5b5def5a-8d47-42c9-bd89-4a1c33f68b99",
   "metadata": {
    "deletable": false,
    "editable": false,
    "nbgrader": {
     "cell_type": "markdown",
     "checksum": "98d6eef79c473540336fdcc6bd31b1e8",
     "grade": false,
     "grade_id": "cell-9b417f724576e4da",
     "locked": true,
     "schema_version": 3,
     "solution": false,
     "task": false
    }
   },
   "source": [
    "# Part II - PCA for Eigenfaces (37 points)\n",
    "\n",
    "In this part, we work with a dataset consisting of numerous faces and create a basis of so-called eigenfaces.<br>\n",
    "The images are **192x168**, and are stored as vectors of length **32,256**."
   ]
  },
  {
   "cell_type": "markdown",
   "id": "522ccd1d-e451-40ba-87a4-497012f53390",
   "metadata": {
    "deletable": false,
    "editable": false,
    "nbgrader": {
     "cell_type": "markdown",
     "checksum": "7d60b96d4e85d1f4e4ccdf6c8eac3d5a",
     "grade": false,
     "grade_id": "cell-b2d53e04c052596a",
     "locked": true,
     "schema_version": 3,
     "solution": false,
     "task": false
    }
   },
   "source": [
    "This utility function will just let us convert an image from vector to matrix representation, so it can be showed on the screen."
   ]
  },
  {
   "cell_type": "code",
   "execution_count": null,
   "id": "c0846a04-01e6-44a8-b720-0eb2aa8eb49e",
   "metadata": {
    "deletable": false,
    "editable": false,
    "nbgrader": {
     "cell_type": "code",
     "checksum": "3767fc474e1800f4abbf1d1cf304808a",
     "grade": false,
     "grade_id": "cell-dd82a082062272bf",
     "locked": true,
     "schema_version": 3,
     "solution": false,
     "task": false
    }
   },
   "outputs": [],
   "source": [
    "def vec2img(vec):\n",
    "    return np.reshape(vec,(168,192)).T"
   ]
  },
  {
   "cell_type": "markdown",
   "id": "0fa77849-52fe-4c47-8dc9-4cf2ff5fbd19",
   "metadata": {
    "deletable": false,
    "editable": false,
    "nbgrader": {
     "cell_type": "markdown",
     "checksum": "3a7a68af30fd284cbdcb33230570041d",
     "grade": false,
     "grade_id": "cell-95823f3f2da30dc0",
     "locked": true,
     "schema_version": 3,
     "solution": false,
     "task": false
    }
   },
   "source": [
    "We load the faces database.<br>\n",
    "**<font color='red'>FACES</font>** - an array where each entry is a collection of images of a single person <br>\n",
    "**<font color='red'>NPEOPLE</font>** - number of people in the list (should be 20)<br>\n",
    "**<font color='red'>NFACES</font>** - number of images per person (should be 64)"
   ]
  },
  {
   "cell_type": "code",
   "execution_count": null,
   "id": "b9d5a2ee-6893-47d3-a204-1414fbf5ef90",
   "metadata": {
    "deletable": false,
    "editable": false,
    "nbgrader": {
     "cell_type": "code",
     "checksum": "96c9e2b41f7a792edc9d2c5cc3481f03",
     "grade": false,
     "grade_id": "cell-e4e59f942057073b",
     "locked": true,
     "schema_version": 3,
     "solution": false,
     "task": false
    }
   },
   "outputs": [],
   "source": [
    "f = open('faces.npy','rb')\n",
    "FACES = np.load(f)\n",
    "NPEOPLE = len(FACES)\n",
    "NFACES = 64\n",
    "NR = int(np.sqrt(NFACES))\n",
    "f.close()"
   ]
  },
  {
   "cell_type": "markdown",
   "id": "9f954d5d-68c1-41c8-acfc-c496dc9e599d",
   "metadata": {
    "deletable": false,
    "editable": false,
    "nbgrader": {
     "cell_type": "markdown",
     "checksum": "131e7538e119485416998c384de6fb77",
     "grade": false,
     "grade_id": "cell-7667f4b774cdd01c",
     "locked": true,
     "schema_version": 3,
     "solution": false,
     "task": false
    }
   },
   "source": [
    "---"
   ]
  },
  {
   "cell_type": "markdown",
   "id": "7b8e93cb-46d7-4b3f-9a2a-fa0b253bbdb2",
   "metadata": {
    "deletable": false,
    "editable": false,
    "nbgrader": {
     "cell_type": "markdown",
     "checksum": "4bf55c102e9009addb0a17beeea6e5b6",
     "grade": false,
     "grade_id": "cell-940e6137d367fe97",
     "locked": true,
     "schema_version": 3,
     "solution": false,
     "task": false
    }
   },
   "source": [
    "### The Eigenfaces of a Single Person"
   ]
  },
  {
   "cell_type": "markdown",
   "id": "0e9ca603-97e3-415f-b653-62e93cf94349",
   "metadata": {
    "deletable": false,
    "editable": false,
    "nbgrader": {
     "cell_type": "markdown",
     "checksum": "cc2441516193bc7b87a9b5cecba217fd",
     "grade": false,
     "grade_id": "cell-db6cf83612a914ef",
     "locked": true,
     "schema_version": 3,
     "solution": false,
     "task": false
    }
   },
   "source": [
    "First, we will examine the photos of a **single** person.<br>\n",
    "**<font color='red'>PI</font>** - the index of the person we examine. <br>\n",
    "**<font color='red'>X_person</font>** - the data matrix, containing all images of person PI, as columns.<br>\n",
    "\n",
    "You can change **PI** as you wish, to experiment with the photos of different people.\n",
    "\n",
    "We start by presenting all the photos. "
   ]
  },
  {
   "cell_type": "code",
   "execution_count": null,
   "id": "7e6e3bd4-6d7a-441e-ac29-8ed5974aeca3",
   "metadata": {},
   "outputs": [],
   "source": [
    "PI = 1"
   ]
  },
  {
   "cell_type": "code",
   "execution_count": null,
   "id": "b41a96e1-079e-4dce-abc7-2493d75c6bbd",
   "metadata": {
    "deletable": false,
    "editable": false,
    "nbgrader": {
     "cell_type": "code",
     "checksum": "fc3dcb65d7b1e6fdb30883ae03c27a4a",
     "grade": false,
     "grade_id": "cell-0696b746af5f9cca",
     "locked": true,
     "schema_version": 3,
     "solution": false,
     "task": false
    }
   },
   "outputs": [],
   "source": [
    "X_person =  FACES[PI]\n",
    "\n",
    "plt.figure(figsize=(15,15))\n",
    "for i in range(NFACES):\n",
    "    im = vec2img(X_person[:,i])\n",
    "    plt.subplot(NR,NR,i+1)\n",
    "    plt.imshow(im,cmap='gray')\n",
    "    plt.axis('off')"
   ]
  },
  {
   "cell_type": "markdown",
   "id": "9a401019-cd84-4f95-a0b7-ff2be27c6604",
   "metadata": {
    "deletable": false,
    "editable": false,
    "nbgrader": {
     "cell_type": "markdown",
     "checksum": "5aae20349e718028f9c237e9a0fac967",
     "grade": false,
     "grade_id": "cell-9c3919c87c8102d6",
     "locked": true,
     "schema_version": 3,
     "solution": false,
     "task": false
    }
   },
   "source": [
    "Next, we want to find the \"**eigenfaces**\", i.e., the directions of the principal components for this collection of images.<br>\n",
    "When using PCA, we should do all the processing for the **centred** data, i.e., with mean 0.\n",
    "Therefore, take the following steps:\n",
    "1. Define **<font color='red'>M_person</font>** to be the mean of all images in **X_person** (should be a 32,256-dimensional vector).\n",
    "1. Subtract **M_person** from all images. Place the result in **<font color='red'>XZ_person</font>**.\n",
    "1. Find the left-singular vectors of **XZ_person** (i.e., the matrix U in the SVD). Place the result in **<font color='red'>U_person</font>**.\n",
    "\n",
    "At the end of this process, the columns of **U_person** should represent the **eigenfaces**.<br>\n",
    "\n",
    "**<font color=blue>IMORTANT:</font>** When using **svd** (from np.linalg), it is important to specify **full_matrices=False**. Otherwise, the algorithm aims to compute the full dimensional matrices, which are not needed and require a lot of memory."
   ]
  },
  {
   "cell_type": "code",
   "execution_count": null,
   "id": "60907dbc-3636-4856-a4f3-6f143fe74df6",
   "metadata": {
    "deletable": false,
    "nbgrader": {
     "cell_type": "code",
     "checksum": "767dc5a7f169fbd34f9122f96929d88b",
     "grade": false,
     "grade_id": "cell-b202b416ce9712cd",
     "locked": false,
     "schema_version": 3,
     "solution": true,
     "task": false
    }
   },
   "outputs": [],
   "source": [
    "# YOUR CODE HERE\n",
    "raise NotImplementedError()"
   ]
  },
  {
   "cell_type": "code",
   "execution_count": null,
   "id": "7427d770-bf46-4377-961e-da3ed586e7ef",
   "metadata": {
    "deletable": false,
    "editable": false,
    "nbgrader": {
     "cell_type": "code",
     "checksum": "c209ec8a10a0ea62d72a276aff4564cd",
     "grade": true,
     "grade_id": "cell-d1a1b498ed538d95",
     "locked": true,
     "points": 15,
     "schema_version": 3,
     "solution": false,
     "task": false
    }
   },
   "outputs": [],
   "source": [
    "### DO NOT REMOVE/EDIT THIS CELL ###"
   ]
  },
  {
   "cell_type": "markdown",
   "id": "7e30ce5b-1a78-4ea8-b738-4c19b4287610",
   "metadata": {
    "deletable": false,
    "editable": false,
    "nbgrader": {
     "cell_type": "markdown",
     "checksum": "a9c1b6e5662c92d93e2c29abb4ca14c7",
     "grade": false,
     "grade_id": "cell-93627156520eb079",
     "locked": true,
     "schema_version": 3,
     "solution": false,
     "task": false
    }
   },
   "source": [
    "We will present the mean face **M_person** along with the first 15 eigenfaces in **U_person**."
   ]
  },
  {
   "cell_type": "code",
   "execution_count": null,
   "id": "ac067d31-0937-4738-acfa-fd2d7b075ff2",
   "metadata": {
    "deletable": false,
    "editable": false,
    "nbgrader": {
     "cell_type": "code",
     "checksum": "22215e871e620708d5bf86ce8fc15c17",
     "grade": false,
     "grade_id": "cell-d41e6df35eb5c129",
     "locked": true,
     "schema_version": 3,
     "solution": false,
     "task": false
    }
   },
   "outputs": [],
   "source": [
    "plt.figure(figsize=(15,15))\n",
    "\n",
    "plt.subplot(4,4,1)\n",
    "plt.imshow(vec2img(M_person), cmap='gray')\n",
    "plt.axis('off')\n",
    "plt.title('mean')\n",
    "\n",
    "for i in range(15):\n",
    "    plt.subplot(4,4,i+2)\n",
    "    plt.imshow(vec2img(U_person[:,i]), cmap='gray')\n",
    "    plt.axis('off')\n",
    "    plt.title('$u_{%i}$' % (i+1))"
   ]
  },
  {
   "cell_type": "markdown",
   "id": "c6bd87e2-ec9c-40df-a168-57cbafd1b0e7",
   "metadata": {
    "deletable": false,
    "editable": false,
    "nbgrader": {
     "cell_type": "markdown",
     "checksum": "92d93c25e5b87ee79668b03c82050d9e",
     "grade": false,
     "grade_id": "cell-cae6a578602280ec",
     "locked": true,
     "schema_version": 3,
     "solution": false,
     "task": false
    }
   },
   "source": [
    "Next, we want to try to get a feeling for what some of the eigenfaces represent.<br>\n",
    "We start by exploring the role of the first 2 eigenfaces.<br>\n",
    "To do so, we compute the reconstruction of **XZ_person** based on the first two principal components. We then add back the mean **M_person**.<br> The result should be placed in **<font color='red'>X12</font>**."
   ]
  },
  {
   "cell_type": "code",
   "execution_count": null,
   "id": "fb3af3bb-a70a-428b-b690-2b91c65a8fb5",
   "metadata": {
    "deletable": false,
    "nbgrader": {
     "cell_type": "code",
     "checksum": "6bfba77e61de5acb05516c57a16b180f",
     "grade": false,
     "grade_id": "cell-5eeb5592b35b5964",
     "locked": false,
     "schema_version": 3,
     "solution": true,
     "task": false
    }
   },
   "outputs": [],
   "source": [
    "# YOUR CODE HERE\n",
    "raise NotImplementedError()"
   ]
  },
  {
   "cell_type": "code",
   "execution_count": null,
   "id": "791e7ea0-068a-4271-90ac-e5f0c83e99ae",
   "metadata": {
    "deletable": false,
    "editable": false,
    "nbgrader": {
     "cell_type": "code",
     "checksum": "0b29944732669ac787f1b369cdc65dbc",
     "grade": true,
     "grade_id": "cell-215b609eff147d9a",
     "locked": true,
     "points": 3,
     "schema_version": 3,
     "solution": false,
     "task": false
    }
   },
   "outputs": [],
   "source": [
    "### DO NOT REMOVE/EDIT THIS CELL ###"
   ]
  },
  {
   "cell_type": "markdown",
   "id": "7b5b8c7f-d30f-4e6b-9034-1cea9159f04d",
   "metadata": {
    "deletable": false,
    "editable": false,
    "nbgrader": {
     "cell_type": "markdown",
     "checksum": "a40d4f52b03f968c9b940acf209ee62b",
     "grade": false,
     "grade_id": "cell-05132cd39d185ff1",
     "locked": true,
     "schema_version": 3,
     "solution": false,
     "task": false
    }
   },
   "source": [
    "We present the results for all the images. <br>"
   ]
  },
  {
   "cell_type": "code",
   "execution_count": null,
   "id": "b4a2eafe-0a06-4996-a190-86068ba75669",
   "metadata": {
    "deletable": false,
    "editable": false,
    "nbgrader": {
     "cell_type": "code",
     "checksum": "90bcd6223c3b990dee19dc12e11887c7",
     "grade": false,
     "grade_id": "cell-100163fcdaf2c35c",
     "locked": true,
     "schema_version": 3,
     "solution": false,
     "task": false
    }
   },
   "outputs": [],
   "source": [
    "plt.figure(figsize=(15,15))\n",
    "for i in range(NFACES):\n",
    "    im = vec2img(X12[:,i])\n",
    "    plt.subplot(NR,NR,i+1)\n",
    "    plt.imshow(im,cmap='gray')\n",
    "    plt.axis('off')"
   ]
  },
  {
   "cell_type": "markdown",
   "id": "bdd21bcf-29da-4a32-a71c-0cf6a223c0ec",
   "metadata": {
    "deletable": false,
    "editable": false,
    "nbgrader": {
     "cell_type": "markdown",
     "checksum": "0a62f4693c5571573e4ddfec388f7331",
     "grade": false,
     "grade_id": "cell-4e82dffcdf8736f4",
     "locked": true,
     "schema_version": 3,
     "solution": false,
     "task": false
    }
   },
   "source": [
    "**<font color='blue'>Question:</font>** Can you notice the effect of these two eigenfaces? what do you think they represent?"
   ]
  },
  {
   "cell_type": "markdown",
   "id": "26e8ca5c-bf4f-484d-abdd-228372c0fc3c",
   "metadata": {
    "deletable": false,
    "nbgrader": {
     "cell_type": "markdown",
     "checksum": "d8659adc0cd4b7abfe4fa367a8a2bba7",
     "grade": true,
     "grade_id": "cell-7a4336275c4ae228",
     "locked": false,
     "points": 2,
     "schema_version": 3,
     "solution": true,
     "task": false
    }
   },
   "source": [
    "YOUR ANSWER HERE"
   ]
  },
  {
   "cell_type": "markdown",
   "id": "42b29759-fd77-4031-a013-105cb40f57b7",
   "metadata": {
    "deletable": false,
    "editable": false,
    "nbgrader": {
     "cell_type": "markdown",
     "checksum": "5d48650cc07f84457be9d108855ae1df",
     "grade": false,
     "grade_id": "cell-8a617b459a2db716",
     "locked": true,
     "schema_version": 3,
     "solution": false,
     "task": false
    }
   },
   "source": [
    "Next, we will do the same but for the 3rd and 4th eigenfaces. Place the result in **<font color='red'>X34</font>**."
   ]
  },
  {
   "cell_type": "code",
   "execution_count": null,
   "id": "d13c3938-0b38-41bf-a1b2-e19c9ebe5e17",
   "metadata": {
    "deletable": false,
    "nbgrader": {
     "cell_type": "code",
     "checksum": "56d8566e8ff1a63dbadbb54b7c015240",
     "grade": false,
     "grade_id": "cell-e74dc0aa3950dda6",
     "locked": false,
     "schema_version": 3,
     "solution": true,
     "task": false
    }
   },
   "outputs": [],
   "source": [
    "# YOUR CODE HERE\n",
    "raise NotImplementedError()"
   ]
  },
  {
   "cell_type": "code",
   "execution_count": null,
   "id": "a9106b33-4dd0-4889-bc6c-0071702031de",
   "metadata": {
    "deletable": false,
    "editable": false,
    "nbgrader": {
     "cell_type": "code",
     "checksum": "43eab04ea244cc5d838d1fd1c23afce9",
     "grade": true,
     "grade_id": "cell-4ba08823454cb18f",
     "locked": true,
     "points": 3,
     "schema_version": 3,
     "solution": false,
     "task": false
    }
   },
   "outputs": [],
   "source": [
    "### DO NOT REMOVE/EDIT THIS CELL ###"
   ]
  },
  {
   "cell_type": "code",
   "execution_count": null,
   "id": "b1784015-72ee-407a-8a61-9111c6b97671",
   "metadata": {
    "deletable": false,
    "editable": false,
    "nbgrader": {
     "cell_type": "code",
     "checksum": "da9732edffdf3bb8d872cfaf916ffe23",
     "grade": false,
     "grade_id": "cell-23c194d7d5161c12",
     "locked": true,
     "schema_version": 3,
     "solution": false,
     "task": false
    }
   },
   "outputs": [],
   "source": [
    "plt.figure(figsize=(15,15))\n",
    "for i in range(NFACES):\n",
    "    im = vec2img(X34[:,i])\n",
    "    plt.subplot(NR,NR,i+1)\n",
    "    plt.imshow(im,cmap='gray')\n",
    "    plt.axis('off')"
   ]
  },
  {
   "cell_type": "markdown",
   "id": "a0cba11e-7ad8-4079-96f6-ce8b3b520143",
   "metadata": {
    "deletable": false,
    "editable": false,
    "nbgrader": {
     "cell_type": "markdown",
     "checksum": "fd0b097a44e423d1418cd8755000dafe",
     "grade": false,
     "grade_id": "cell-3daf7b2c26ffc2db",
     "locked": true,
     "schema_version": 3,
     "solution": false,
     "task": false
    }
   },
   "source": [
    "**<font color='blue'>Question:</font>** Can you notice the effect of these two eigenfaces? Is it the same or different than the previous two?"
   ]
  },
  {
   "cell_type": "markdown",
   "id": "c72107be-a2fd-4b23-b959-9c3fe31da757",
   "metadata": {
    "deletable": false,
    "nbgrader": {
     "cell_type": "markdown",
     "checksum": "260021e9bae33a54798bea90814b31de",
     "grade": true,
     "grade_id": "cell-x7a4336275c4ae228",
     "locked": false,
     "points": 2,
     "schema_version": 3,
     "solution": true,
     "task": false
    }
   },
   "source": [
    "YOUR ANSWER HERE"
   ]
  },
  {
   "cell_type": "markdown",
   "id": "19060266-1b4e-4234-886f-46caa516b8e0",
   "metadata": {
    "deletable": false,
    "editable": false,
    "nbgrader": {
     "cell_type": "markdown",
     "checksum": "5c38b60f8d6dd736b867fa03dc316f18",
     "grade": false,
     "grade_id": "cell-9488fecfcf805fec",
     "locked": true,
     "schema_version": 3,
     "solution": false,
     "task": false
    }
   },
   "source": [
    "---"
   ]
  },
  {
   "cell_type": "markdown",
   "id": "3d83a2fa-3770-405c-8ff8-6516076180ac",
   "metadata": {
    "deletable": false,
    "editable": false,
    "nbgrader": {
     "cell_type": "markdown",
     "checksum": "0c5d79054937baa2bbff2ed6f15675ab",
     "grade": false,
     "grade_id": "cell-ca01af307b0b1c6d",
     "locked": true,
     "schema_version": 3,
     "solution": false,
     "task": false
    }
   },
   "source": [
    "### The Eigenfaces of a Collection of People"
   ]
  },
  {
   "cell_type": "markdown",
   "id": "74d3314c-990b-45fa-bcdd-1eed73d07a5d",
   "metadata": {
    "deletable": false,
    "editable": false,
    "nbgrader": {
     "cell_type": "markdown",
     "checksum": "d2e6cafe0f2e8688bd4e3a68e6fabfeb",
     "grade": false,
     "grade_id": "cell-71d75cf335b7cbe2",
     "locked": true,
     "schema_version": 3,
     "solution": false,
     "task": false
    }
   },
   "source": [
    "Next, we will have a similar exercise, but instead of taking a single person, we will take **all** of them (together).\n",
    "\n",
    "We place all the images in **<font color='red'>X_all</font>** and show a random collection of them."
   ]
  },
  {
   "cell_type": "code",
   "execution_count": null,
   "id": "47f736a3-fde9-4a2f-ac1d-480ef215cbe7",
   "metadata": {
    "deletable": false,
    "editable": false,
    "nbgrader": {
     "cell_type": "code",
     "checksum": "c325e537cd8174a13f18232b6166ef3b",
     "grade": false,
     "grade_id": "cell-f2e7078620dbfab0",
     "locked": true,
     "schema_version": 3,
     "solution": false,
     "task": false
    }
   },
   "outputs": [],
   "source": [
    "X_all = np.concatenate(FACES,1)\n",
    "         \n",
    "plt.figure(figsize=(15,15))\n",
    "for i in range(NFACES):\n",
    "    j = np.random.randint(NFACES*NPEOPLE)\n",
    "    im = vec2img(X_all[:,j])\n",
    "    plt.subplot(NR,NR,i+1)\n",
    "    plt.imshow(im,cmap='gray')\n",
    "    plt.axis('off')"
   ]
  },
  {
   "cell_type": "markdown",
   "id": "714117e9-115f-416e-9296-9c0a83ca78a3",
   "metadata": {
    "deletable": false,
    "editable": false,
    "nbgrader": {
     "cell_type": "markdown",
     "checksum": "52836f44ed2c149657a5a9314c8386a2",
     "grade": false,
     "grade_id": "cell-e28eee491b2ce7c9",
     "locked": true,
     "schema_version": 3,
     "solution": false,
     "task": false
    }
   },
   "source": [
    "Find the eigenfaces in this case. This step is similar to what we did for a single person.<br>\n",
    "Here, in addition to storing the singular vectors in **<font color='red'>U_all</font>**, you should also save the **singular values**. <br>\n",
    "Make sure the singular values are stored in **<font color='red'>S_all</font>**.\n",
    "\n",
    "This calculation can be a bit slow, but shouldn't take more than 20 seconds."
   ]
  },
  {
   "cell_type": "code",
   "execution_count": null,
   "id": "753c2b94-0afa-4f6a-8440-9613661bfa77",
   "metadata": {
    "deletable": false,
    "nbgrader": {
     "cell_type": "code",
     "checksum": "df46766823be811d8e21272f1916615e",
     "grade": false,
     "grade_id": "cell-42404fa4cb898070",
     "locked": false,
     "schema_version": 3,
     "solution": true,
     "task": false
    }
   },
   "outputs": [],
   "source": [
    "# YOUR CODE HERE\n",
    "raise NotImplementedError()"
   ]
  },
  {
   "cell_type": "code",
   "execution_count": null,
   "id": "3979872c-c9a9-4b46-ad30-0312ad92a9b7",
   "metadata": {
    "deletable": false,
    "editable": false,
    "nbgrader": {
     "cell_type": "code",
     "checksum": "f5761f6b4c6ba4cbe82db76f44cce14b",
     "grade": true,
     "grade_id": "cell-f4699283da621af0",
     "locked": true,
     "points": 3,
     "schema_version": 3,
     "solution": false,
     "task": false
    }
   },
   "outputs": [],
   "source": [
    "### DO NOT REMOVE/EDIT THIS CELL ###"
   ]
  },
  {
   "cell_type": "markdown",
   "id": "5b19880e-c645-4752-823f-72542afe3c60",
   "metadata": {
    "deletable": false,
    "editable": false,
    "nbgrader": {
     "cell_type": "markdown",
     "checksum": "9ab36a13cbdcc76a2a3de94dd32f9fea",
     "grade": false,
     "grade_id": "cell-7f1b2cd895301db2",
     "locked": true,
     "schema_version": 3,
     "solution": false,
     "task": false
    }
   },
   "source": [
    "Present the mean and the first 15 eigenfaces."
   ]
  },
  {
   "cell_type": "code",
   "execution_count": null,
   "id": "e3398937-911b-4cfd-9b12-c466aba77995",
   "metadata": {
    "deletable": false,
    "editable": false,
    "nbgrader": {
     "cell_type": "code",
     "checksum": "5801b9e6a23bfbf32387dbcd49dda76f",
     "grade": false,
     "grade_id": "cell-b45e98c0ecf153e7",
     "locked": true,
     "schema_version": 3,
     "solution": false,
     "task": false
    }
   },
   "outputs": [],
   "source": [
    "plt.figure(figsize=(15,15))\n",
    "\n",
    "plt.subplot(4,4,1)\n",
    "plt.imshow(vec2img(M_all), cmap='gray')\n",
    "plt.axis('off')\n",
    "plt.title('mean')\n",
    "\n",
    "for i in range(15):\n",
    "    plt.subplot(4,4,i+2)\n",
    "    plt.imshow(vec2img(U_all[:,i]), cmap='gray')\n",
    "    plt.axis('off')\n",
    "    plt.title('$u_{%i}$' % (i+1))"
   ]
  },
  {
   "cell_type": "markdown",
   "id": "cc20905c-4637-4553-8524-c588597b20b0",
   "metadata": {
    "deletable": false,
    "editable": false,
    "nbgrader": {
     "cell_type": "markdown",
     "checksum": "4dc9fee2c0952ecd6358afaeea9a8e7a",
     "grade": false,
     "grade_id": "cell-bc2a0b57ccce40c6",
     "locked": true,
     "schema_version": 3,
     "solution": false,
     "task": false
    }
   },
   "source": [
    "In the next box we try to test the effect of the  eigenfaces in different way. <br>\n",
    "For each eigenface **u<sub>i</sub>** we want to show the image **M + t$\\cdot$u<sub>i</sub>**, where **t** is in $\\big[-\\frac{\\sigma_i}{20},\\frac{\\sigma_i}{20}\\big]$, and $\\sigma_i$ is the corresponding singular value.<br>\n",
    "The list **<font color='red'>I</font>** indicates which eigenfaces to examine. You can experiment with different indexes."
   ]
  },
  {
   "cell_type": "code",
   "execution_count": null,
   "id": "d41f7b00-635b-49fe-a093-2940a05cc700",
   "metadata": {},
   "outputs": [],
   "source": [
    "I = [0,1,2,3,4,5]\n",
    "NT = 11\n",
    "SCALE = 20"
   ]
  },
  {
   "cell_type": "markdown",
   "id": "b6985b0d-1445-49bf-98bc-268877720af9",
   "metadata": {
    "deletable": false,
    "editable": false,
    "nbgrader": {
     "cell_type": "markdown",
     "checksum": "9c5476f0a2bb7b1a09292943544ed6a4",
     "grade": false,
     "grade_id": "cell-66e358f01ecbd16a",
     "locked": true,
     "schema_version": 3,
     "solution": false,
     "task": false
    }
   },
   "source": [
    "Fill in the missing code."
   ]
  },
  {
   "cell_type": "code",
   "execution_count": null,
   "id": "cfe8430a-e2bb-4b8a-9915-5948128ea78e",
   "metadata": {
    "deletable": false,
    "nbgrader": {
     "cell_type": "code",
     "checksum": "9b194dc5fa8d6f151c9c45f45da8adb9",
     "grade": false,
     "grade_id": "cell-9fd67d60131abb38",
     "locked": false,
     "schema_version": 3,
     "solution": true,
     "task": false
    }
   },
   "outputs": [],
   "source": [
    "NI = len(I)\n",
    "M = X_all.mean(1)\n",
    "\n",
    "plt.figure(figsize=(15,10))\n",
    "for i in range(NI):\n",
    "    T = np.linspace(-S_all[I[i]]/SCALE,S_all[I[i]]/SCALE,NT)\n",
    "    for j in range(NT):\n",
    "        # YOUR CODE HERE\n",
    "        raise NotImplementedError()\n",
    "        plt.subplot(NI,NT, i*NT+j+1)\n",
    "        plt.imshow(vec2img(im),cmap='gray')\n",
    "        plt.axis('off')"
   ]
  },
  {
   "cell_type": "code",
   "execution_count": null,
   "id": "e1bdf126-bd5a-4df9-825e-189f27835017",
   "metadata": {
    "deletable": false,
    "editable": false,
    "nbgrader": {
     "cell_type": "code",
     "checksum": "65aa921f53d705a19e68ae16b29eed6d",
     "grade": true,
     "grade_id": "cell-46003f1e45573a2a",
     "locked": true,
     "points": 2,
     "schema_version": 3,
     "solution": false,
     "task": false
    }
   },
   "outputs": [],
   "source": [
    "### DO NOT REMOVE/EDIT THIS CELL ###"
   ]
  },
  {
   "cell_type": "markdown",
   "id": "10641c83-a896-4019-9e42-1d79c0a4f887",
   "metadata": {
    "deletable": false,
    "editable": false,
    "nbgrader": {
     "cell_type": "markdown",
     "checksum": "90d7584177e8e83912ef8374bb1eec0e",
     "grade": false,
     "grade_id": "cell-3ed5554d3d80b903",
     "locked": true,
     "schema_version": 3,
     "solution": false,
     "task": false
    }
   },
   "source": [
    "**<font color='blue'>Question:</font>** Can you notice the effects of the different eigenfaces? "
   ]
  },
  {
   "cell_type": "markdown",
   "id": "4202a979-7e99-426e-a495-40c5f2e40943",
   "metadata": {
    "deletable": false,
    "nbgrader": {
     "cell_type": "markdown",
     "checksum": "ed01381ad372c9b5cd26ce559e42103f",
     "grade": true,
     "grade_id": "cell-9e467dec6e7848a7",
     "locked": false,
     "points": 2,
     "schema_version": 3,
     "solution": true,
     "task": false
    }
   },
   "source": [
    "YOUR ANSWER HERE"
   ]
  },
  {
   "cell_type": "markdown",
   "id": "aeac3330-b253-442f-bbe6-a761b7d64f6a",
   "metadata": {
    "deletable": false,
    "editable": false,
    "nbgrader": {
     "cell_type": "markdown",
     "checksum": "627164fd424cc8a7ce0d5c5a1a38ce02",
     "grade": false,
     "grade_id": "cell-2dd01b5be8cbc5f5",
     "locked": true,
     "schema_version": 3,
     "solution": false,
     "task": false
    }
   },
   "source": [
    "Take the **first** image in the dataset, and place it in **<font color=red>im_test_1</font>**. Using the eigenfaces in **U_all**, modify the image so that it is **<font color=green>light on the left</font>** and **<font color=green>dark on the right</font>**. Save the result in **<font color=red>im_left_1</font>**. Similalry, make a version that is light on the right and dark on the left, and store it in **<font color=red>im_right_1</font>**. \n",
    "\n",
    "Repeate the same steps for the **50th** image, and store the results in **<font color=red>im_test_50, im_left_50, im_right_50</font>**."
   ]
  },
  {
   "cell_type": "code",
   "execution_count": null,
   "id": "b585755a-2bea-460e-ab62-ff6da622cddf",
   "metadata": {
    "deletable": false,
    "nbgrader": {
     "cell_type": "code",
     "checksum": "a5fb69767c904ca0ce8ab37735ae1334",
     "grade": true,
     "grade_id": "cell-4bf4f57df5fcfe99",
     "locked": false,
     "points": 3,
     "schema_version": 3,
     "solution": true,
     "task": false
    }
   },
   "outputs": [],
   "source": [
    "# YOUR CODE HERE\n",
    "raise NotImplementedError()"
   ]
  },
  {
   "cell_type": "markdown",
   "id": "ab211b56-6dd1-4e58-b97f-562d3273a44f",
   "metadata": {
    "deletable": false,
    "editable": false,
    "nbgrader": {
     "cell_type": "markdown",
     "checksum": "72207ff722ba6c24fddbd053e4594d92",
     "grade": false,
     "grade_id": "cell-531c189b9495a823",
     "locked": true,
     "schema_version": 3,
     "solution": false,
     "task": false
    }
   },
   "source": [
    "Present the original and modified images."
   ]
  },
  {
   "cell_type": "code",
   "execution_count": null,
   "id": "b4e47916-d1ff-402b-a55d-3979bc6cffc4",
   "metadata": {
    "deletable": false,
    "editable": false,
    "nbgrader": {
     "cell_type": "code",
     "checksum": "8d7aaa4550876fc1cff0bc003c34be46",
     "grade": false,
     "grade_id": "cell-073f793c060a2422",
     "locked": true,
     "schema_version": 3,
     "solution": false,
     "task": false
    }
   },
   "outputs": [],
   "source": [
    "plt.figure(figsize=(15,10))\n",
    "plt.subplot(2,3,1)\n",
    "plt.imshow(vec2img(im_test_1),cmap='gray')\n",
    "plt.axis('off')\n",
    "plt.title('Original image')\n",
    "\n",
    "plt.subplot(2,3,2)\n",
    "plt.imshow(vec2img(im_left_1),cmap='gray')\n",
    "plt.axis('off')\n",
    "plt.title('Light on the left')\n",
    "\n",
    "plt.subplot(2,3,3)\n",
    "plt.imshow(vec2img(im_right_1),cmap='gray')\n",
    "plt.axis('off')\n",
    "plt.title('Light on the right')\n",
    "\n",
    "plt.subplot(2,3,4)\n",
    "plt.imshow(vec2img(im_test_50),cmap='gray')\n",
    "plt.axis('off')\n",
    "plt.title('Original image')\n",
    "\n",
    "plt.subplot(2,3,5)\n",
    "plt.imshow(vec2img(im_left_50),cmap='gray')\n",
    "plt.axis('off')\n",
    "plt.title('Light on the left')\n",
    "\n",
    "plt.subplot(2,3,6)\n",
    "plt.imshow(vec2img(im_right_50),cmap='gray')\n",
    "plt.axis('off')\n",
    "plt.title('Light on the right')"
   ]
  },
  {
   "cell_type": "markdown",
   "id": "7dd4413a-f6a4-4b11-b6fe-f601a340ef3a",
   "metadata": {
    "deletable": false,
    "editable": false,
    "nbgrader": {
     "cell_type": "markdown",
     "checksum": "932acbf0e52b2f87bcdce7963aaeab90",
     "grade": false,
     "grade_id": "cell-7a896454848eab2c",
     "locked": true,
     "schema_version": 3,
     "solution": false,
     "task": false
    }
   },
   "source": [
    "**<font color='blue'>Question:</font>** Does the results look good? Do you notice a difference between the images? Try to discuss this."
   ]
  },
  {
   "cell_type": "markdown",
   "id": "21b6b0fe-364a-4710-9aa4-52471dd0b006",
   "metadata": {
    "deletable": false,
    "nbgrader": {
     "cell_type": "markdown",
     "checksum": "e52a5e7912b67536342b4e139349bca6",
     "grade": true,
     "grade_id": "cell-4c4d364ee7640afe",
     "locked": false,
     "points": 2,
     "schema_version": 3,
     "solution": true,
     "task": false
    }
   },
   "source": [
    "YOUR ANSWER HERE"
   ]
  },
  {
   "cell_type": "markdown",
   "id": "4d216409-17d8-4da7-a5c7-5d0d8298fde2",
   "metadata": {
    "deletable": false,
    "editable": false,
    "nbgrader": {
     "cell_type": "markdown",
     "checksum": "91e47809c83e340ea57f3afed25862c7",
     "grade": false,
     "grade_id": "cell-26201fb5faa99e9c",
     "locked": true,
     "schema_version": 3,
     "solution": false,
     "task": false
    }
   },
   "source": [
    "---"
   ]
  },
  {
   "cell_type": "markdown",
   "id": "b5dd099f-ffca-43d5-97f6-52c86b3ff9f3",
   "metadata": {
    "deletable": false,
    "editable": false,
    "nbgrader": {
     "cell_type": "markdown",
     "checksum": "dc9e65ee45bb83238c81f199222149e6",
     "grade": false,
     "grade_id": "cell-05219ddf2f58771a",
     "locked": true,
     "schema_version": 3,
     "solution": false,
     "task": false
    }
   },
   "source": [
    "# Part III -  Matrix Completion (33 points)\n",
    "\n",
    "In this part, we perform  matrix completion  using the **Singular Value Thresholding** (SVT) algorithm we saw in class.<br>\n",
    "Given an incomplete matrix **M**, recall that our objective is to solve:\n",
    "$$ X^* = \\arg\\min_{X} \\tau\\|X|_* + \\frac{1}{2} \\|X\\|_F^2\\quad\\text{subject to}\\quad P_{\\Omega}(X)=P_\\Omega(M),$$\n",
    "where $\\Omega$ represents the set of indexes where the values of **M** are **known**.\n",
    "\n",
    "The SVT algorithm should have the following update iterations:\n",
    "$$\n",
    "\\begin{split}\n",
    "X^{(k+1)} &= D_\\tau(Y^{(k)}),\\\\\n",
    "Y^{(k+1)} &= Y^{(k)} + \\beta P_\\Omega(M-X^{(k+1)}).\\end{split}\n",
    "$$\n",
    "The starting value should be $Y^{(0)} = 0$.<br> \n",
    "The algorithm should stop after $k$ steps if:\n",
    "$$ \\frac{\\|P_\\Omega(M)-P_\\Omega(X^{(k)})\\|_F}{\\|P_\\Omega(M)\\|_F} \\le \\text{tolerance}.$$\n",
    "\n",
    "\n",
    "Place your code in the function **<font color='red'>matrix_complete</font>**. It should take the following input:\n",
    "* **<font color='red'>M</font>** - the incomplete matrix in $\\mathbb{R}^{D\\times N}$. The **known** values are assumed to be between 0 and 1, and an unknown value will be marked by **<font color='red'>-1</font>**.\n",
    "* **<font color='red'>tolerance</font>** - the maximum tolerance to decide when iterations should stop. The default value is $8.1\\times 10^{-5}$.\n",
    "* **<font color='red'>beta_val</font>** - a value for the increment size $\\beta$.<br>\n",
    "If **beta_val** is not specified (=None), the default value should be $\\beta = 0.82\\times\\frac{D\\times N}{K}$, where **K** is the number of **known** entries in **M**.\n",
    "* **<font color='red'>tau_val</font>** - a value for the shrinking size $\\tau$. <br>\n",
    "If **tau_val** is not specified (=None), the default value should be $\\tau = 0.37\\times\\max(D,N)$.\n",
    "* **<font color='red'>max_iter</font>** - maximum number of iterations to run.\n",
    "* **<font color='red'>iter_print</font>** - how often to print out a progress line.\n",
    "\n",
    "The output of the function should be the final value of **<font color='red'>X</font>**.\n",
    "\n"
   ]
  },
  {
   "cell_type": "code",
   "execution_count": null,
   "id": "cbc305cf-ad8c-4e0e-91bb-2f73c6dec1d7",
   "metadata": {
    "deletable": false,
    "nbgrader": {
     "cell_type": "code",
     "checksum": "8f56c554b08c50f41df3e6561ce70828",
     "grade": false,
     "grade_id": "cell-2f0b96cb789b0c25",
     "locked": false,
     "schema_version": 3,
     "solution": true,
     "task": false
    }
   },
   "outputs": [],
   "source": [
    "### IF YOU NEED SOME AUXILIARY FUNCTIONS YOU CAN PLACE THEM HERE\n",
    "### (ALSO OK TO LEAVE EMPTY IF YOU DON'T)\n",
    "\n",
    "# YOUR CODE HERE\n",
    "raise NotImplementedError()"
   ]
  },
  {
   "cell_type": "code",
   "execution_count": null,
   "id": "3ab7b419-6c79-4214-9ce9-e0e643e3593a",
   "metadata": {
    "deletable": false,
    "nbgrader": {
     "cell_type": "code",
     "checksum": "65e4187533f0312d37a2caafc9a0b1d9",
     "grade": false,
     "grade_id": "cell-41075ce2326f072e",
     "locked": false,
     "schema_version": 3,
     "solution": true,
     "task": false
    }
   },
   "outputs": [],
   "source": [
    "def matrix_complete(M, tolerance=8.1e-5, beta_val=None, tau_val=None, max_iter=10000, iter_print=100):\n",
    "    # YOUR CODE HERE\n",
    "    raise NotImplementedError()"
   ]
  },
  {
   "cell_type": "code",
   "execution_count": null,
   "id": "faddb364-8d3d-4211-9ddb-484381dad088",
   "metadata": {
    "deletable": false,
    "editable": false,
    "nbgrader": {
     "cell_type": "code",
     "checksum": "6e727546618ca0b32e57e70e8ee654c0",
     "grade": true,
     "grade_id": "cell-a47e012856ac0e0d",
     "locked": true,
     "points": 15,
     "schema_version": 3,
     "solution": false,
     "task": false
    }
   },
   "outputs": [],
   "source": [
    "### DO NOT REMOVE/EDIT THIS CELL ###\n",
    "\n",
    "np.random.seed(11232)\n",
    "M_test = np.random.rand(4,5)\n",
    "M_test[0,2] = -1\n",
    "M_test[3,1] = -1\n",
    "M_test[1,0] = -1\n",
    "M_test[2,3] = -1\n",
    "\n",
    "X_correct = np.array([[0.28184808, 0.22232085, 0.25328388, 0.50521773, 0.82542652],\n",
    "       [0.21899948, 0.0900134 , 0.84216102, 0.65204837, 0.01802106],\n",
    "       [0.07918562, 0.90582226, 0.65758943, 0.15359926, 0.48446993],\n",
    "       [0.3112642 , 0.23217241, 0.88039408, 0.6651078 , 0.32746706]])\n",
    "\n",
    "X_test = matrix_complete(M_test, tolerance=1e-4, beta_val = 0.5*20/16, tau_val=1.0)\n",
    "\n",
    "assert_almost_equal(X_test, X_correct)\n",
    "\n",
    "\n",
    "print('--- TEST PASSED ---')"
   ]
  },
  {
   "cell_type": "markdown",
   "id": "af3c3191-1237-46c1-812f-56995ffae9bf",
   "metadata": {
    "deletable": false,
    "editable": false,
    "nbgrader": {
     "cell_type": "markdown",
     "checksum": "d1508a80d3ff56fb7b3960c806e9399d",
     "grade": false,
     "grade_id": "cell-9cc0dc13af586d24",
     "locked": true,
     "schema_version": 3,
     "solution": false,
     "task": false
    }
   },
   "source": [
    "The function **<font color='red'>matrix_corrupt</font>** takes a matrix **X**, assuming to have positive values, and with probability **P** replaces each element with a value of **<font color='red'>-1</font>** to mark it as a **missing value**."
   ]
  },
  {
   "cell_type": "code",
   "execution_count": null,
   "id": "0641dc08-fb70-4992-a613-429be795ddb8",
   "metadata": {
    "deletable": false,
    "editable": false,
    "nbgrader": {
     "cell_type": "code",
     "checksum": "3225b359d9682f38ee04810435ffbf49",
     "grade": false,
     "grade_id": "cell-51b9652655a236b2",
     "locked": true,
     "schema_version": 3,
     "solution": false,
     "task": false
    }
   },
   "outputs": [],
   "source": [
    "def matrix_corrupt(X, P):\n",
    "    Xnew = np.array(X)\n",
    "    R = np.random.rand(X.shape[0], X.shape[1])\n",
    "    IDX = np.where(R<P)\n",
    "    Xnew[IDX] = -1\n",
    "    return Xnew"
   ]
  },
  {
   "cell_type": "markdown",
   "id": "46684c35-e4ea-4cb0-a0fd-3deea4953d59",
   "metadata": {
    "deletable": false,
    "editable": false,
    "nbgrader": {
     "cell_type": "markdown",
     "checksum": "d8122a28252ca9f13d4b591c962b770a",
     "grade": false,
     "grade_id": "cell-67153619004f9649",
     "locked": true,
     "schema_version": 3,
     "solution": false,
     "task": false
    }
   },
   "source": [
    "---"
   ]
  },
  {
   "cell_type": "markdown",
   "id": "9b11632f-333f-4c57-945a-e057266d9b1d",
   "metadata": {
    "deletable": false,
    "editable": false,
    "nbgrader": {
     "cell_type": "markdown",
     "checksum": "562fa3fcd8ec7f556bcc81fdcca67459",
     "grade": false,
     "grade_id": "cell-6171e4ada1f1f5ae",
     "locked": true,
     "schema_version": 3,
     "solution": false,
     "task": false
    }
   },
   "source": [
    "### RGB Images\n",
    "We will use the matrix completion algorithm to correct missing values in RGB images.<br>\n",
    "We will us the same photo selection as in Part I. Examine all the pictureד, and leave one selected when you submit your project (doesn't matter which)."
   ]
  },
  {
   "cell_type": "code",
   "execution_count": null,
   "id": "49c1e9c4-4e36-4816-88d2-7f74042dfce1",
   "metadata": {},
   "outputs": [],
   "source": [
    "### IMAGE SELECTION ###\n",
    "image = data.astronaut()\n",
    "# image = data.rocket()\n",
    "# image = data.colorwheel()"
   ]
  },
  {
   "cell_type": "code",
   "execution_count": null,
   "id": "1a149d1e-e26a-419c-adea-2c1ff38897f2",
   "metadata": {
    "deletable": false,
    "editable": false,
    "nbgrader": {
     "cell_type": "code",
     "checksum": "c07cbb90b23f7a3ce7ce39066761a9e2",
     "grade": false,
     "grade_id": "cell-b758c7fff32205ad",
     "locked": true,
     "schema_version": 3,
     "solution": false,
     "task": false
    }
   },
   "outputs": [],
   "source": [
    "# Converting the RGB values into the range [0,1]\n",
    "image = img_as_float(image)"
   ]
  },
  {
   "cell_type": "markdown",
   "id": "c66cba15-5405-460c-9dbf-3d3df0d5be01",
   "metadata": {
    "deletable": false,
    "editable": false,
    "nbgrader": {
     "cell_type": "markdown",
     "checksum": "a5159cc70729a79a7ed36150ec15a2ed",
     "grade": false,
     "grade_id": "cell-c799e15b63391c67",
     "locked": true,
     "schema_version": 3,
     "solution": false,
     "task": false
    }
   },
   "source": [
    "The missing values can appear in any of the R/G/B channels independently.<br> Therefore, if the image is of width  **W** and height **H**, we will process it as a matrix with **H rows** and **3W columns**.<br>\n",
    "We start by writing functions to convert between the two formats.\n",
    "\n",
    "You will need to code two functions:\n",
    "* **<font color=red>im2mat</font>** - converts an image from an **(H x W x 3)** 3d-array to an **(H x 3W)** matrix.\n",
    "* **<font color=red>mat2im</font>** - converts an **(H x 3W)** matrix back into an **(H x W x 3)** 3d-array."
   ]
  },
  {
   "cell_type": "code",
   "execution_count": null,
   "id": "2f59bdc6-62ee-49ee-8607-1f85ef899516",
   "metadata": {
    "deletable": false,
    "nbgrader": {
     "cell_type": "code",
     "checksum": "e8baafea0bc2309f1249a71e8dde9c87",
     "grade": false,
     "grade_id": "cell-c202341df77c1676",
     "locked": false,
     "schema_version": 3,
     "solution": true,
     "task": false
    }
   },
   "outputs": [],
   "source": [
    "def im2mat(image):\n",
    "    # YOUR CODE HERE\n",
    "    raise NotImplementedError()\n",
    "\n",
    "def mat2im(mat):\n",
    "    # YOUR CODE HERE\n",
    "    raise NotImplementedError()"
   ]
  },
  {
   "cell_type": "markdown",
   "id": "8b910c19-a4ed-41a7-a5fa-6de3c9e4e564",
   "metadata": {
    "deletable": false,
    "editable": false,
    "nbgrader": {
     "cell_type": "markdown",
     "checksum": "73a52f904dae3932c8a3320b95d877ba",
     "grade": false,
     "grade_id": "cell-7bc4188f5ec57ce2",
     "locked": true,
     "schema_version": 3,
     "solution": false,
     "task": false
    }
   },
   "source": [
    "Testing the **im2mat** and **mat2im** functions."
   ]
  },
  {
   "cell_type": "code",
   "execution_count": null,
   "id": "9f7ddca5-9122-4270-a92d-6b26a88913e4",
   "metadata": {
    "deletable": false,
    "editable": false,
    "nbgrader": {
     "cell_type": "code",
     "checksum": "73029bb9c3af631523ccd1047f2d7069",
     "grade": true,
     "grade_id": "cell-a3c13eb40e67e60d",
     "locked": true,
     "points": 2,
     "schema_version": 3,
     "solution": false,
     "task": false
    }
   },
   "outputs": [],
   "source": [
    "### DO NOT REMOVE/EDIT THIS CELL ###\n",
    "\n",
    "np.random.seed(2343234)\n",
    "\n",
    "test_im = np.random.rand(2,3,3)\n",
    "test_mat = im2mat(test_im)\n",
    "test_im_2 = mat2im(test_mat)\n",
    "\n",
    "test_mat_RES = np.array([[0.21435714, 0.9483089 , 0.26014289, 0.85474945, 0.3003837 ,\n",
    "        0.86430052, 0.74878394, 0.44215536, 0.28218045],\n",
    "       [0.75837569, 0.50741801, 0.90138123, 0.99696511, 0.55819116,\n",
    "        0.91226562, 0.92116696, 0.96942254, 0.63157848]])\n",
    "\n",
    "assert_array_almost_equal(test_mat, test_mat_RES)\n",
    "assert_array_almost_equal(test_im_2, test_im)\n",
    "\n",
    "\n",
    "print('--- TEST PASSED ---')"
   ]
  },
  {
   "cell_type": "markdown",
   "id": "e93eef86-2705-4c44-84ed-2082d063957c",
   "metadata": {
    "deletable": false,
    "editable": false,
    "nbgrader": {
     "cell_type": "markdown",
     "checksum": "c9b40c7e63d0bb4c80566625085afb55",
     "grade": false,
     "grade_id": "cell-90e8ee4ed47cd669",
     "locked": true,
     "schema_version": 3,
     "solution": false,
     "task": false
    }
   },
   "source": [
    "Next, convert the photo stored in **image** to a matrix using **im2mat**, save the result in **<font color=red>im_mat</font>**."
   ]
  },
  {
   "cell_type": "code",
   "execution_count": null,
   "id": "b2b8fc8d-c0dc-45fe-a148-a94f9de97f3c",
   "metadata": {
    "deletable": false,
    "nbgrader": {
     "cell_type": "code",
     "checksum": "b30e75d05efa8c22a745b86cbbe00da7",
     "grade": true,
     "grade_id": "cell-b69e08354211a7ac",
     "locked": false,
     "points": 1,
     "schema_version": 3,
     "solution": true,
     "task": false
    }
   },
   "outputs": [],
   "source": [
    "# YOUR CODE HERE\n",
    "raise NotImplementedError()"
   ]
  },
  {
   "cell_type": "markdown",
   "id": "ffda5fe8-1bd9-42a3-913d-927861696379",
   "metadata": {
    "deletable": false,
    "editable": false,
    "nbgrader": {
     "cell_type": "markdown",
     "checksum": "5f4f36803bc4eff52dc9b73e1926a7cd",
     "grade": false,
     "grade_id": "cell-5a568005663e564c",
     "locked": true,
     "schema_version": 3,
     "solution": false,
     "task": false
    }
   },
   "source": [
    "If all was done well, presenting **im_mat** you should see 3 copies of the same photo."
   ]
  },
  {
   "cell_type": "code",
   "execution_count": null,
   "id": "0d5252c2-64c0-47b2-8fb3-2954945da46f",
   "metadata": {
    "deletable": false,
    "editable": false,
    "nbgrader": {
     "cell_type": "code",
     "checksum": "ee2e9e4cecca80585814bfae72bebaad",
     "grade": false,
     "grade_id": "cell-18e4ab1617b2bc2d",
     "locked": true,
     "schema_version": 3,
     "solution": false,
     "task": false
    }
   },
   "outputs": [],
   "source": [
    "plt.figure(figsize=(15,5))\n",
    "plt.imshow(im_mat, cmap='gray');\n",
    "plt.axis('off')"
   ]
  },
  {
   "cell_type": "markdown",
   "id": "048330a5-a529-4347-af87-8db590e1d2ea",
   "metadata": {
    "deletable": false,
    "editable": false,
    "nbgrader": {
     "cell_type": "markdown",
     "checksum": "628e9f6bc0869346b0481c7ac72e8ab6",
     "grade": false,
     "grade_id": "cell-2b25f561d95441a6",
     "locked": true,
     "schema_version": 3,
     "solution": false,
     "task": false
    }
   },
   "source": [
    "Next, we will erase random values from the matrix, to simulate missing values.<br>\n",
    "Use the function **matrix_corrupt** to generate a copy of **im_mat** with missing values. Use **P=0.3**, and save the result in **<font color=red>im_mat_cor</font>**. \n",
    "\n",
    "In addition, since we will want to show what the corrupt image looks like, we will have to convert the matrix version back to an RGB format. Store the RGB version in **<font color=red>im_cor</font>**. Note that when presenting the image, the values are expected to be between 0 and 1. Since our missing values are **-1** it will damage the view. Use **np.clip** to amend this (only for **im_cor**, do NOT do this for **im_mat_cor**)."
   ]
  },
  {
   "cell_type": "code",
   "execution_count": null,
   "id": "9439b015-1726-47f3-ad6a-8f34101a14ab",
   "metadata": {
    "deletable": false,
    "nbgrader": {
     "cell_type": "code",
     "checksum": "acc34eee0086914164a3accb63f70aca",
     "grade": false,
     "grade_id": "cell-6f65144d05827726",
     "locked": false,
     "schema_version": 3,
     "solution": true,
     "task": false
    }
   },
   "outputs": [],
   "source": [
    "# YOUR CODE HERE\n",
    "raise NotImplementedError()"
   ]
  },
  {
   "cell_type": "code",
   "execution_count": null,
   "id": "68658f32-86ba-4f44-95bc-e4d25ebaa162",
   "metadata": {
    "deletable": false,
    "editable": false,
    "nbgrader": {
     "cell_type": "code",
     "checksum": "cf7da5d47cd4763f0935e3918a550039",
     "grade": true,
     "grade_id": "cell-21ad749bcc4c4449",
     "locked": true,
     "points": 3,
     "schema_version": 3,
     "solution": false,
     "task": false
    }
   },
   "outputs": [],
   "source": [
    "### DO NOT REMOVE/EDIT THIS CELL ###"
   ]
  },
  {
   "cell_type": "markdown",
   "id": "1e90f098-aa76-437a-be71-f2df8c79b039",
   "metadata": {
    "deletable": false,
    "editable": false,
    "nbgrader": {
     "cell_type": "markdown",
     "checksum": "5b505cec03c50ece4f9a9567cb9a9fc6",
     "grade": false,
     "grade_id": "cell-7d5cce2c43a0e99a",
     "locked": true,
     "schema_version": 3,
     "solution": false,
     "task": false
    }
   },
   "source": [
    "The next step is to complete the missing value in the matrix **im_mat_cor**. To do that, use the function **matrix_complete** you coded earlier. Run it with $\\beta=1.23$, $\\tau=97$, and max_iter=50. Store the result in **<font color=red>im_mat_comp</font>**.\n",
    "\n",
    "After the matrix completion is done, convert the matrix back into an image, and clip the values like you did earlier. Store the result in **<font color=red>im_comp</font>**. "
   ]
  },
  {
   "cell_type": "code",
   "execution_count": null,
   "id": "e31c3a8c-63b2-4461-b2b8-991e75586a39",
   "metadata": {
    "deletable": false,
    "nbgrader": {
     "cell_type": "code",
     "checksum": "ecf7d5833e0aa6ecc3edde5c4b5a7e10",
     "grade": false,
     "grade_id": "cell-11492a72be2f7682",
     "locked": false,
     "schema_version": 3,
     "solution": true,
     "task": false
    }
   },
   "outputs": [],
   "source": [
    "# YOUR CODE HERE\n",
    "raise NotImplementedError()"
   ]
  },
  {
   "cell_type": "code",
   "execution_count": null,
   "id": "da6f1dbd-3896-4ad2-9854-96b71e62dbaa",
   "metadata": {
    "deletable": false,
    "editable": false,
    "nbgrader": {
     "cell_type": "code",
     "checksum": "83676ab2c23e5ab5b3908b66d21f0248",
     "grade": true,
     "grade_id": "cell-51b108bf207f9a5f",
     "locked": true,
     "points": 5,
     "schema_version": 3,
     "solution": false,
     "task": false
    }
   },
   "outputs": [],
   "source": [
    "### DO NOT REMOVE/EDIT THIS CELL ###"
   ]
  },
  {
   "cell_type": "code",
   "execution_count": null,
   "id": "a4902293-6ac5-4a8d-97db-ea4837c50918",
   "metadata": {
    "deletable": false,
    "editable": false,
    "nbgrader": {
     "cell_type": "code",
     "checksum": "831efbe0e83fe08dbb3df4068f047149",
     "grade": false,
     "grade_id": "cell-673d5efef4b51bd7",
     "locked": true,
     "schema_version": 3,
     "solution": false,
     "task": false
    }
   },
   "outputs": [],
   "source": [
    "plt.figure(figsize=(15,5))\n",
    "plt.subplot(1,3,1)\n",
    "plt.imshow(image)\n",
    "plt.axis('off')\n",
    "plt.title('Original image')\n",
    "\n",
    "plt.subplot(1,3,2)\n",
    "plt.imshow(im_cor);\n",
    "plt.axis('off');\n",
    "plt.title('Corrupt image')\n",
    "\n",
    "plt.subplot(1,3,3)\n",
    "plt.imshow(im_comp)\n",
    "plt.title('Completed image')\n",
    "plt.axis('off');"
   ]
  },
  {
   "cell_type": "markdown",
   "id": "85d51277-1f59-40fd-a79b-d12ab9524a5e",
   "metadata": {
    "deletable": false,
    "editable": false,
    "nbgrader": {
     "cell_type": "markdown",
     "checksum": "c9f2ed2eb98b5104b87f130d8e2282a2",
     "grade": false,
     "grade_id": "cell-ef33cb9e3be90270",
     "locked": true,
     "schema_version": 3,
     "solution": false,
     "task": false
    }
   },
   "source": [
    "The box below is free form.\n",
    "Repeat the experiment above, but try to test the effect of the parameters **P**, **tolerance**, $\\beta$, $\\tau$, etc.\n",
    "When you submit your final version, include 2 examples, and discuss the results in the box below. Make sure that the examples you choose demonstrate some differences that you can discuss. Use the same variable names, so they are properly displayed in the following box."
   ]
  },
  {
   "cell_type": "code",
   "execution_count": null,
   "id": "b4739c2d-bb19-472e-a909-f7b30abc4334",
   "metadata": {
    "deletable": false,
    "nbgrader": {
     "cell_type": "code",
     "checksum": "9fc9451fae89672ccdfa2f667edfd72d",
     "grade": true,
     "grade_id": "cell-4c1d290dd17bffd3",
     "locked": false,
     "points": 2,
     "schema_version": 3,
     "solution": true,
     "task": false
    }
   },
   "outputs": [],
   "source": [
    "### SETTING -1-\n",
    "# YOUR CODE HERE\n",
    "raise NotImplementedError()"
   ]
  },
  {
   "cell_type": "code",
   "execution_count": null,
   "id": "01d3e78e-2a8a-4cd9-944b-59f881e75cd6",
   "metadata": {
    "deletable": false,
    "editable": false,
    "nbgrader": {
     "cell_type": "code",
     "checksum": "74c3cb5a7879c4670beb4aae18a5969e",
     "grade": false,
     "grade_id": "cell-a66520ca7ae5ae61",
     "locked": true,
     "schema_version": 3,
     "solution": false,
     "task": false
    }
   },
   "outputs": [],
   "source": [
    "plt.figure(figsize=(15,5))\n",
    "plt.subplot(1,3,1)\n",
    "plt.imshow(image)\n",
    "plt.axis('off')\n",
    "plt.title('Original image')\n",
    "\n",
    "plt.subplot(1,3,2)\n",
    "plt.imshow(im_cor);\n",
    "plt.axis('off');\n",
    "plt.title('Corrupt image')\n",
    "\n",
    "plt.subplot(1,3,3)\n",
    "plt.imshow(im_comp)\n",
    "plt.title('Completed image')\n",
    "plt.axis('off');"
   ]
  },
  {
   "cell_type": "code",
   "execution_count": null,
   "id": "d6f23c2f-aa23-4088-83f7-13e341825310",
   "metadata": {
    "deletable": false,
    "nbgrader": {
     "cell_type": "code",
     "checksum": "c4ea39ad0c4274399c3fcd42b58e3278",
     "grade": true,
     "grade_id": "cell-f98598eaf6890ac2",
     "locked": false,
     "points": 2,
     "schema_version": 3,
     "solution": true,
     "task": false
    }
   },
   "outputs": [],
   "source": [
    "### SETTING -2-\n",
    "# YOUR CODE HERE\n",
    "raise NotImplementedError()"
   ]
  },
  {
   "cell_type": "code",
   "execution_count": null,
   "id": "448b429d-b83b-4601-a17e-22422e77234d",
   "metadata": {
    "deletable": false,
    "editable": false,
    "nbgrader": {
     "cell_type": "code",
     "checksum": "2fec217591f337c89c6661f844cc1dcf",
     "grade": false,
     "grade_id": "cell-a78b365937ad63b9",
     "locked": true,
     "schema_version": 3,
     "solution": false,
     "task": false
    }
   },
   "outputs": [],
   "source": [
    "plt.figure(figsize=(15,5))\n",
    "plt.subplot(1,3,1)\n",
    "plt.imshow(image)\n",
    "plt.axis('off')\n",
    "plt.title('Original image')\n",
    "\n",
    "plt.subplot(1,3,2)\n",
    "plt.imshow(im_cor);\n",
    "plt.axis('off');\n",
    "plt.title('Corrupt image')\n",
    "\n",
    "plt.subplot(1,3,3)\n",
    "plt.imshow(im_comp)\n",
    "plt.title('Completed image')\n",
    "plt.axis('off');"
   ]
  },
  {
   "cell_type": "markdown",
   "id": "2c726172-ad91-4810-a06e-68597f749556",
   "metadata": {
    "deletable": false,
    "editable": false,
    "nbgrader": {
     "cell_type": "markdown",
     "checksum": "51cddc899e58258ebfe102c8cdb73c6d",
     "grade": false,
     "grade_id": "cell-c1ad37db1050b42b",
     "locked": true,
     "schema_version": 3,
     "solution": false,
     "task": false
    }
   },
   "source": [
    "Discuss the results here, in particular,  the effect of the different parameter values (e.g., on the quality of the output, speed of convergence, etc.), and possible reasons for these effects."
   ]
  },
  {
   "cell_type": "markdown",
   "id": "7b0eb459-e06d-4f22-a42d-cad999c31d4b",
   "metadata": {
    "deletable": false,
    "nbgrader": {
     "cell_type": "markdown",
     "checksum": "66b9a3e87456b07b69b17b2276eaaeb6",
     "grade": true,
     "grade_id": "cell-88bd25acbf50fa91",
     "locked": false,
     "points": 3,
     "schema_version": 3,
     "solution": true,
     "task": false
    }
   },
   "source": [
    "YOUR ANSWER HERE"
   ]
  },
  {
   "cell_type": "code",
   "execution_count": null,
   "id": "12861ba6-b1bf-4029-9eff-8222d4e5539e",
   "metadata": {},
   "outputs": [],
   "source": []
  }
 ],
 "metadata": {
  "kernelspec": {
   "display_name": "Python 3 (ipykernel)",
   "language": "python",
   "name": "python3"
  },
  "language_info": {
   "codemirror_mode": {
    "name": "ipython",
    "version": 3
   },
   "file_extension": ".py",
   "mimetype": "text/x-python",
   "name": "python",
   "nbconvert_exporter": "python",
   "pygments_lexer": "ipython3",
   "version": "3.11.8"
  }
 },
 "nbformat": 4,
 "nbformat_minor": 5
}
